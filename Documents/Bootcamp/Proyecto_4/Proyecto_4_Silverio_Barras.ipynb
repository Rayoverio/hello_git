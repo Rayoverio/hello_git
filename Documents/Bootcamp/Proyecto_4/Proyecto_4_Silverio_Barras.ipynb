{
 "cells": [
  {
   "cell_type": "markdown",
   "id": "189fab81",
   "metadata": {},
   "source": [
    "<div class=\"alert alert-block alert-danger\">\n",
    "<b>Comentario general del revisor</b> <a class=\"tocSkip\"></a><br />\n",
    "Status del proyecto: <b>No aprobado</b><br/>\n",
    "Aún falta practicamente todo el proyecto por ser completado, si tienes preguntas sobre como puedes continuar me puedes dejar un mensaje por aquí y con gusto te ayudaré a resolverlo, por otro lado si quisieras ayuda más personalizada puedes contactar a un tutor a través de Discord    \n",
    "</div>\n"
   ]
  },
  {
   "cell_type": "markdown",
   "id": "39949aa2",
   "metadata": {},
   "source": [
    "¡Hola!<br />\n",
    "Soy **Francisco Cortés**, estoy contento de revisar tu proyecto y ser parte de tu proceso de aprendizaje.\n",
    "A lo largo del texto, haré algunas observaciones sobre mejoras en el código y también haré comentarios sobre tus percepciones sobre el tema. Si existe algún error en el código, no te preocupes, estoy aquí para ayudarte a mejorarlo, en la primera iteración te lo señalaré para que tengas la oportunidad de corregirlo, pero si aún no encuentras una solución para esta tarea, te daré una pista más precisa en la próxima iteración y también algunos ejemplos prácticos. Estaré abierto a retroalimentación y discusiones sobre el tema.<br />\n",
    "Encontrarás mis comentarios a continuación - **por favor no los muevas, modifiques o borres**.\n",
    "Revisaré cuidadosamente tu código para comprobar que se han cumplido con los requisitos y te proporcionaré mis comentarios en cajas verdes, amarillas o rojas como esta:\n",
    "\n",
    "<div class=\"alert alert-block alert-success\">\n",
    "<b>Comentario del revisor</b> <a class=\"tocSkip\"></a>\n",
    "\n",
    "Si la ejecución fue perfecta succesfully.\n",
    "</div>\n",
    "\n",
    "<div class=\"alert alert-block alert-warning\">\n",
    "<b>Comentario del revisor</b> <a class=\"tocSkip\"></a>\n",
    "\n",
    "Si existe alguna recomendación para que tu código mejore.\n",
    "</div>\n",
    "\n",
    "<div class=\"alert alert-block alert-danger\">\n",
    "\n",
    "<b>Comentario del revisor</b> <a class=\"tocSkip\"></a>\n",
    "\n",
    "Si existen correcciones necesarias para cumplir con los requisitos. El trabajo no puede ser aceptado si hay alguna caja roja.\n",
    "</div>\n",
    "\n",
    "Puedes responderme de la siguiente manera:\n",
    "\n",
    "<div class=\"alert alert-block alert-info\">\n",
    "<b>Respuesta del estudiante.</b> <a class=\"tocSkip\"></a>\n",
    "</div>\n"
   ]
  },
  {
   "cell_type": "markdown",
   "id": "3Xg_RQfnafXz",
   "metadata": {
    "id": "3Xg_RQfnafXz"
   },
   "source": [
    "# ¡Llena ese carrito!"
   ]
  },
  {
   "cell_type": "markdown",
   "id": "mhIvmmkW414q",
   "metadata": {
    "id": "mhIvmmkW414q"
   },
   "source": [
    "# Introducción\n",
    "\n",
    "Instacart es una plataforma de entregas de comestibles donde la clientela puede registrar un pedido y hacer que se lo entreguen, similar a Uber Eats y Door Dash.\n",
    "El conjunto de datos que te hemos proporcionado tiene modificaciones del original. Redujimos el tamaño del conjunto para que tus cálculos se hicieran más rápido e introdujimos valores ausentes y duplicados. Tuvimos cuidado de conservar las distribuciones de los datos originales cuando hicimos los cambios.\n",
    "\n",
    "Debes completar tres pasos. Para cada uno de ellos, escribe una breve introducción que refleje con claridad cómo pretendes resolver cada paso, y escribe párrafos explicatorios que justifiquen tus decisiones al tiempo que avanzas en tu solución.  También escribe una conclusión que resuma tus hallazgos y elecciones.\n"
   ]
  },
  {
   "cell_type": "markdown",
   "id": "3MbyzpOQZ5Or",
   "metadata": {
    "id": "3MbyzpOQZ5Or"
   },
   "source": [
    "## Diccionario de datos\n",
    "\n",
    "Hay cinco tablas en el conjunto de datos, y tendrás que usarlas todas para hacer el preprocesamiento de datos y el análisis exploratorio de datos. A continuación se muestra un diccionario de datos que enumera las columnas de cada tabla y describe los datos que contienen.\n",
    "\n",
    "- `instacart_orders.csv`: cada fila corresponde a un pedido en la aplicación Instacart.\n",
    "    - `'order_id'`: número de ID que identifica de manera única cada pedido.\n",
    "    - `'user_id'`: número de ID que identifica de manera única la cuenta de cada cliente.\n",
    "    - `'order_number'`: el número de veces que este cliente ha hecho un pedido.\n",
    "    - `'order_dow'`: día de la semana en que se hizo el pedido (0 si es domingo).\n",
    "    - `'order_hour_of_day'`: hora del día en que se hizo el pedido.\n",
    "    - `'days_since_prior_order'`: número de días transcurridos desde que este cliente hizo su pedido anterior.\n",
    "- `products.csv`: cada fila corresponde a un producto único que pueden comprar los clientes.\n",
    "    - `'product_id'`: número ID que identifica de manera única cada producto.\n",
    "    - `'product_name'`: nombre del producto.\n",
    "    - `'aisle_id'`: número ID que identifica de manera única cada categoría de pasillo de víveres.\n",
    "    - `'department_id'`: número ID que identifica de manera única cada departamento de víveres.\n",
    "- `order_products.csv`: cada fila corresponde a un artículo pedido en un pedido.\n",
    "    - `'order_id'`: número de ID que identifica de manera única cada pedido.\n",
    "    - `'product_id'`: número ID que identifica de manera única cada producto.\n",
    "    - `'add_to_cart_order'`: el orden secuencial en el que se añadió cada artículo en el carrito.\n",
    "    - `'reordered'`: 0 si el cliente nunca ha pedido este producto antes, 1 si lo ha pedido.\n",
    "- `aisles.csv`\n",
    "    - `'aisle_id'`: número ID que identifica de manera única cada categoría de pasillo de víveres.\n",
    "    - `'aisle'`: nombre del pasillo.\n",
    "- `departments.csv`\n",
    "    - `'department_id'`: número ID que identifica de manera única cada departamento de víveres.\n",
    "    - `'department'`: nombre del departamento."
   ]
  },
  {
   "cell_type": "markdown",
   "id": "n3Ha_cNSZ8lK",
   "metadata": {
    "id": "n3Ha_cNSZ8lK"
   },
   "source": [
    "# Paso 1. Descripción de los datos\n",
    "\n",
    "Lee los archivos de datos (`/datasets/instacart_orders.csv`, `/datasets/products.csv`, `/datasets/aisles.csv`, `/datasets/departments.csv` y `/datasets/order_products.csv`) con `pd.read_csv()` usando los parámetros adecuados para leer los datos correctamente. Verifica la información para cada DataFrame creado.\n"
   ]
  },
  {
   "cell_type": "markdown",
   "id": "OmlQPLlyaAfR",
   "metadata": {
    "id": "OmlQPLlyaAfR"
   },
   "source": [
    "## Plan de solución\n",
    "\n",
    "Escribe aquí tu plan de solución para el Paso 1. Descripción de los datos."
   ]
  },
  {
   "cell_type": "code",
   "execution_count": 1,
   "id": "fbf1adab",
   "metadata": {
    "id": "fbf1adab"
   },
   "outputs": [],
   "source": [
    "import pandas as pd\n",
    "from matplotlib import pyplot as plt\n",
    "import numpy as np# importar librerías"
   ]
  },
  {
   "cell_type": "code",
   "execution_count": 2,
   "id": "ad36396d",
   "metadata": {
    "id": "ad36396d"
   },
   "outputs": [],
   "source": [
    "orders = pd.read_csv('/datasets/instacart_orders.csv', sep = ';')\n",
    "products = pd.read_csv('/datasets/products.csv', sep = ';')\n",
    "aisles = pd.read_csv('/datasets/aisles.csv', sep = ';')\n",
    "departments = pd.read_csv('/datasets/departments.csv', sep = ';')\n",
    "orders_products = pd.read_csv('/datasets/order_products.csv', sep = ';')# leer conjuntos de datos en los DataFrames"
   ]
  },
  {
   "cell_type": "code",
   "execution_count": 3,
   "id": "ad6a1efa",
   "metadata": {
    "id": "ad6a1efa"
   },
   "outputs": [
    {
     "name": "stdout",
     "output_type": "stream",
     "text": [
      "<class 'pandas.core.frame.DataFrame'>\n",
      "RangeIndex: 478967 entries, 0 to 478966\n",
      "Data columns (total 6 columns):\n",
      " #   Column                  Non-Null Count   Dtype  \n",
      "---  ------                  --------------   -----  \n",
      " 0   order_id                478967 non-null  int64  \n",
      " 1   user_id                 478967 non-null  int64  \n",
      " 2   order_number            478967 non-null  int64  \n",
      " 3   order_dow               478967 non-null  int64  \n",
      " 4   order_hour_of_day       478967 non-null  int64  \n",
      " 5   days_since_prior_order  450148 non-null  float64\n",
      "dtypes: float64(1), int64(5)\n",
      "memory usage: 21.9 MB\n"
     ]
    }
   ],
   "source": [
    "orders.info()# mostrar información del DataFrame"
   ]
  },
  {
   "cell_type": "code",
   "execution_count": 4,
   "id": "5130e05e",
   "metadata": {
    "id": "5130e05e"
   },
   "outputs": [
    {
     "name": "stdout",
     "output_type": "stream",
     "text": [
      "<class 'pandas.core.frame.DataFrame'>\n",
      "RangeIndex: 49694 entries, 0 to 49693\n",
      "Data columns (total 4 columns):\n",
      " #   Column         Non-Null Count  Dtype \n",
      "---  ------         --------------  ----- \n",
      " 0   product_id     49694 non-null  int64 \n",
      " 1   product_name   48436 non-null  object\n",
      " 2   aisle_id       49694 non-null  int64 \n",
      " 3   department_id  49694 non-null  int64 \n",
      "dtypes: int64(3), object(1)\n",
      "memory usage: 1.5+ MB\n"
     ]
    }
   ],
   "source": [
    "products.info()# mostrar información del DataFrame"
   ]
  },
  {
   "cell_type": "code",
   "execution_count": 5,
   "id": "d8370c05",
   "metadata": {
    "id": "d8370c05"
   },
   "outputs": [
    {
     "name": "stdout",
     "output_type": "stream",
     "text": [
      "<class 'pandas.core.frame.DataFrame'>\n",
      "RangeIndex: 134 entries, 0 to 133\n",
      "Data columns (total 2 columns):\n",
      " #   Column    Non-Null Count  Dtype \n",
      "---  ------    --------------  ----- \n",
      " 0   aisle_id  134 non-null    int64 \n",
      " 1   aisle     134 non-null    object\n",
      "dtypes: int64(1), object(1)\n",
      "memory usage: 2.2+ KB\n"
     ]
    }
   ],
   "source": [
    "aisles.info()# mostrar información del DataFrame"
   ]
  },
  {
   "cell_type": "code",
   "execution_count": 6,
   "id": "59e2090f",
   "metadata": {
    "id": "59e2090f"
   },
   "outputs": [
    {
     "name": "stdout",
     "output_type": "stream",
     "text": [
      "<class 'pandas.core.frame.DataFrame'>\n",
      "RangeIndex: 21 entries, 0 to 20\n",
      "Data columns (total 2 columns):\n",
      " #   Column         Non-Null Count  Dtype \n",
      "---  ------         --------------  ----- \n",
      " 0   department_id  21 non-null     int64 \n",
      " 1   department     21 non-null     object\n",
      "dtypes: int64(1), object(1)\n",
      "memory usage: 464.0+ bytes\n"
     ]
    }
   ],
   "source": [
    "departments.info()# mostrar información del DataFrame"
   ]
  },
  {
   "cell_type": "code",
   "execution_count": 7,
   "id": "6fc81694",
   "metadata": {
    "id": "6fc81694"
   },
   "outputs": [
    {
     "name": "stdout",
     "output_type": "stream",
     "text": [
      "<class 'pandas.core.frame.DataFrame'>\n",
      "RangeIndex: 4545007 entries, 0 to 4545006\n",
      "Data columns (total 4 columns):\n",
      " #   Column             Non-Null Count    Dtype  \n",
      "---  ------             --------------    -----  \n",
      " 0   order_id           4545007 non-null  int64  \n",
      " 1   product_id         4545007 non-null  int64  \n",
      " 2   add_to_cart_order  4544171 non-null  float64\n",
      " 3   reordered          4545007 non-null  int64  \n",
      "dtypes: float64(1), int64(3)\n",
      "memory usage: 138.7 MB\n"
     ]
    }
   ],
   "source": [
    "orders_products.info(show_counts=True)# mostrar información del DataFrame"
   ]
  },
  {
   "cell_type": "markdown",
   "id": "3d275f11",
   "metadata": {},
   "source": [
    "<div class=\"alert alert-block alert-success\">\n",
    "<b>Comentario del revisor</b> <a class=\"tocSkip\"></a><br />\n",
    "Correcto, buena manera de leer los datos y buenas observaciones iniciales.<br/>\n",
    "</div>\n"
   ]
  },
  {
   "cell_type": "markdown",
   "id": "t75BD19oaR5f",
   "metadata": {
    "id": "t75BD19oaR5f"
   },
   "source": [
    "## Conclusiones\n",
    "\n",
    "Escribe aquí tus conclusiones intermedias sobre el Paso 1. Descripción de los datos.\n",
    "\n",
    "<div class=\"alert alert-block alert-info\">\n",
    "<b>Conclusiones intermedias por conjunto de datos:<br>\n",
    "    1. Orders.<br>\n",
    "        Tiene 28,819 valores nulos en la columna \"days_since_prior_order\". Falta revisar los datos duplicados.<br>\n",
    "    2. Products.<br>\n",
    "        Tiene 1,258 valores nulos en la columna \"product_name\". Como hipótesis considero que hay nombres de productos que se asociaron/colocaron una vez y no volvieron a usarse.<br>\n",
    "    3. Aisles.<br>\n",
    "        La primera impresión es que todo está en orden en este conjunto de datos, pues al menos no hay valores nulos.<br>\n",
    "    4. Departments.<br>\n",
    "        Como con el conjunto anterior, al menos no hay valores nulos.<br>\n",
    "    5. Orders_products.<br>\n",
    "        Conjunto enorme de datos, sin embargo, destaca que sean 836 valores nulos en tan amplio conjunto. Dichos valores nulos se encuentran en la columna \"add_to_cart_order\", por lo que la hipótesis que tengo al respecto es que se tratan de órdenes no concretadas o canceladas.<br>\n",
    "</b> <a class=\"tocSkip\"></a>\n",
    "</div>"
   ]
  },
  {
   "cell_type": "markdown",
   "id": "8RJHqxVmaVsF",
   "metadata": {
    "id": "8RJHqxVmaVsF"
   },
   "source": [
    "# Paso 2. Preprocesamiento de los datos\n",
    "\n",
    "Preprocesa los datos de la siguiente manera:\n",
    "\n",
    "- Verifica y corrige los tipos de datos (por ejemplo, asegúrate de que las columnas de ID sean números enteros).\n",
    "- Identifica y completa los valores ausentes.\n",
    "- Identifica y elimina los valores duplicados.\n",
    "\n",
    "Asegúrate de explicar qué tipos de valores ausentes y duplicados encontraste, cómo los completaste o eliminaste y por qué usaste esos métodos. ¿Por qué crees que estos valores ausentes y duplicados pueden haber estado presentes en el conjunto de datos?"
   ]
  },
  {
   "cell_type": "markdown",
   "id": "p6poABZQaZYb",
   "metadata": {
    "id": "p6poABZQaZYb"
   },
   "source": [
    "## Plan de solución\n",
    "\n",
    "Escribe aquí tu plan para el Paso 2. Preprocesamiento de los datos."
   ]
  },
  {
   "cell_type": "markdown",
   "id": "07357848-dc64-4156-9cc3-01ff4365226d",
   "metadata": {
    "id": "07357848-dc64-4156-9cc3-01ff4365226d"
   },
   "source": [
    "## Encuentra y elimina los valores duplicados (y describe cómo tomaste tus decisiones)."
   ]
  },
  {
   "cell_type": "markdown",
   "id": "f179f0a9",
   "metadata": {
    "id": "f179f0a9"
   },
   "source": [
    "### `instacart_orders` data frame"
   ]
  },
  {
   "cell_type": "code",
   "execution_count": 8,
   "id": "b99297a5-405a-463d-8535-9adc3da4ad74",
   "metadata": {
    "id": "b99297a5-405a-463d-8535-9adc3da4ad74"
   },
   "outputs": [
    {
     "name": "stdout",
     "output_type": "stream",
     "text": [
      "15\n"
     ]
    }
   ],
   "source": [
    "print(orders.duplicated().sum())# Revisa si hay pedidos duplicados\n"
   ]
  },
  {
   "cell_type": "markdown",
   "id": "PEkwUX_gvt5A",
   "metadata": {
    "id": "PEkwUX_gvt5A"
   },
   "source": [
    "¿Tienes líneas duplicadas? Si sí, ¿qué tienen en común?"
   ]
  },
  {
   "cell_type": "code",
   "execution_count": 9,
   "id": "0d44de5d",
   "metadata": {
    "id": "0d44de5d",
    "scrolled": false
   },
   "outputs": [
    {
     "name": "stdout",
     "output_type": "stream",
     "text": [
      "        order_id  user_id  order_number  order_dow  order_hour_of_day  \\\n",
      "145574    794638    50898            24          3                  2   \n",
      "223105   2160484   107525            16          3                  2   \n",
      "230807   1918001   188546            14          3                  2   \n",
      "266232   1782114   106752             1          3                  2   \n",
      "273805   1112182   202304            84          3                  2   \n",
      "284038   2845099    31189            11          3                  2   \n",
      "311713   1021560    53767             3          3                  2   \n",
      "321100    408114    68324             4          3                  2   \n",
      "323900   1919531   191501            32          3                  2   \n",
      "345917   2232988    82565             1          3                  2   \n",
      "371905    391768    57671            19          3                  2   \n",
      "394347    467134    63189            21          3                  2   \n",
      "411408   1286742   183220            48          3                  2   \n",
      "415163   2282673    86751            49          3                  2   \n",
      "441599   2125197    14050            48          3                  2   \n",
      "\n",
      "        days_since_prior_order  \n",
      "145574                     2.0  \n",
      "223105                    30.0  \n",
      "230807                    16.0  \n",
      "266232                     NaN  \n",
      "273805                     6.0  \n",
      "284038                     7.0  \n",
      "311713                     9.0  \n",
      "321100                    18.0  \n",
      "323900                     7.0  \n",
      "345917                     NaN  \n",
      "371905                    10.0  \n",
      "394347                     2.0  \n",
      "411408                     4.0  \n",
      "415163                     2.0  \n",
      "441599                     3.0  \n",
      "        order_id  user_id  order_number  order_dow  order_hour_of_day  \\\n",
      "145      1373529   143518             8          1                  2   \n",
      "169      3129415   201917             4          1                  2   \n",
      "894      2672805   134969            41          0                  2   \n",
      "950       284735     8831             4          5                  2   \n",
      "1260     2537018     7543            23          1                  2   \n",
      "...          ...      ...           ...        ...                ...   \n",
      "477526   2592344    46860            38          3                  2   \n",
      "477624   1448965   201408             4          6                  2   \n",
      "477920   2668224   139740             3          6                  2   \n",
      "478126    852233    71024             1          4                  2   \n",
      "478321   1629284    54187            12          6                  2   \n",
      "\n",
      "        days_since_prior_order  \n",
      "145                       30.0  \n",
      "169                        8.0  \n",
      "894                        2.0  \n",
      "950                       30.0  \n",
      "1260                       3.0  \n",
      "...                        ...  \n",
      "477526                     3.0  \n",
      "477624                    30.0  \n",
      "477920                     8.0  \n",
      "478126                     NaN  \n",
      "478321                     7.0  \n",
      "\n",
      "[1004 rows x 6 columns]\n"
     ]
    }
   ],
   "source": [
    "duplicated_orders = orders[orders.duplicated()]\n",
    "print(duplicated_orders)# Basándote en tus hallazgos,\n",
    "orders_2am = orders[orders['order_hour_of_day'] == 2]\n",
    "print(orders_2am)# Verifica todos los pedidos que se hicieron el miércoles a las 2:00 a.m.\n"
   ]
  },
  {
   "cell_type": "markdown",
   "id": "vu2OWyoqwOx5",
   "metadata": {
    "id": "vu2OWyoqwOx5"
   },
   "source": [
    "¿Qué sugiere este resultado?"
   ]
  },
  {
   "cell_type": "code",
   "execution_count": 10,
   "id": "480563c7",
   "metadata": {
    "id": "480563c7"
   },
   "outputs": [],
   "source": [
    "orders.drop_duplicates(inplace=True)# Elimina los pedidos duplicados\n"
   ]
  },
  {
   "cell_type": "code",
   "execution_count": 11,
   "id": "0b2396a2",
   "metadata": {
    "id": "0b2396a2"
   },
   "outputs": [
    {
     "name": "stdout",
     "output_type": "stream",
     "text": [
      "0\n"
     ]
    }
   ],
   "source": [
    "print(orders.duplicated().sum())# Vuelve a verificar si hay filas duplicadas\n"
   ]
  },
  {
   "cell_type": "code",
   "execution_count": 12,
   "id": "f6113ef1",
   "metadata": {
    "id": "f6113ef1"
   },
   "outputs": [
    {
     "name": "stdout",
     "output_type": "stream",
     "text": [
      "order_id                  0.0\n",
      "user_id                   0.0\n",
      "order_number              0.0\n",
      "order_dow                 0.0\n",
      "order_hour_of_day         0.0\n",
      "days_since_prior_order    0.0\n",
      "dtype: float64\n"
     ]
    }
   ],
   "source": [
    "duplicated_order_ids = orders[orders['order_id'].duplicated()]\n",
    "print(duplicated_order_ids.sum())# Vuelve a verificar si hay IDs duplicados de pedidos"
   ]
  },
  {
   "cell_type": "markdown",
   "id": "9eba2d0f",
   "metadata": {},
   "source": [
    "<div class=\"alert alert-block alert-success\">\n",
    "<b>Comentario del revisor</b> <a class=\"tocSkip\"></a><br />\n",
    "Bien hecho, los duplicados fueron eliminados correctamente\n",
    "</div>\n"
   ]
  },
  {
   "cell_type": "markdown",
   "id": "5e8905ae",
   "metadata": {
    "id": "5e8905ae"
   },
   "source": [
    "Describe brevemente tus hallazgos y lo que hiciste con ellos"
   ]
  },
  {
   "cell_type": "markdown",
   "id": "45e6bc46",
   "metadata": {
    "id": "45e6bc46"
   },
   "source": [
    "### `products` data frame"
   ]
  },
  {
   "cell_type": "code",
   "execution_count": 13,
   "id": "5f526b5b-8175-46fa-a0fd-441767d50e64",
   "metadata": {
    "id": "5f526b5b-8175-46fa-a0fd-441767d50e64"
   },
   "outputs": [
    {
     "name": "stdout",
     "output_type": "stream",
     "text": [
      "Empty DataFrame\n",
      "Columns: [product_id, product_name, aisle_id, department_id]\n",
      "Index: []\n"
     ]
    }
   ],
   "source": [
    "products_duplicated_rows = products[products.duplicated()]\n",
    "print(products_duplicated_rows)# Verifica si hay filas totalmente duplicadas\n"
   ]
  },
  {
   "cell_type": "code",
   "execution_count": 14,
   "id": "88daa4f4",
   "metadata": {
    "id": "88daa4f4"
   },
   "outputs": [
    {
     "name": "stdout",
     "output_type": "stream",
     "text": [
      "Empty DataFrame\n",
      "Columns: [product_id, product_name, aisle_id, department_id]\n",
      "Index: []\n"
     ]
    }
   ],
   "source": [
    "products_duplicated_ids = products[products['product_id'].duplicated()]\n",
    "print(products_duplicated_ids)# Verifica si hay IDs duplicadas de productos"
   ]
  },
  {
   "cell_type": "code",
   "execution_count": 15,
   "id": "c773f0bf",
   "metadata": {
    "id": "c773f0bf"
   },
   "outputs": [
    {
     "name": "stdout",
     "output_type": "stream",
     "text": [
      "       product_id                                     product_name\n",
      "71             72                                              NaN\n",
      "109           110                                              NaN\n",
      "296           297                                              NaN\n",
      "416           417                                              NaN\n",
      "436           437                                              NaN\n",
      "...           ...                                              ...\n",
      "49689       49690                    HIGH PERFORMANCE ENERGY DRINK\n",
      "49690       49691                    ORIGINAL PANCAKE & WAFFLE MIX\n",
      "49691       49692  ORGANIC INSTANT OATMEAL LIGHT MAPLE BROWN SUGAR\n",
      "49692       49693                           SPRING WATER BODY WASH\n",
      "49693       49694                          BURRITO- STEAK & CHEESE\n",
      "\n",
      "[1361 rows x 2 columns]\n"
     ]
    }
   ],
   "source": [
    "products['product_name_upper'] = products['product_name'].str.upper()\n",
    "duplicated_product_names = products[products['product_name_upper'].duplicated()]\n",
    "print(duplicated_product_names[['product_id', 'product_name']])# Revisa si hay nombres duplicados de productos (convierte los nombres a letras mayúsculas para compararlos mejor)"
   ]
  },
  {
   "cell_type": "code",
   "execution_count": 16,
   "id": "01efd02e",
   "metadata": {
    "id": "01efd02e"
   },
   "outputs": [
    {
     "name": "stdout",
     "output_type": "stream",
     "text": [
      "       product_id                               product_name_upper\n",
      "2058         2059                                  BIOTIN 1000 MCG\n",
      "5455         5456                 GREEN TEA WITH GINSENG AND HONEY\n",
      "5558         5559                           CREAM OF MUSHROOM SOUP\n",
      "7558         7559                        CINNAMON ROLLS WITH ICING\n",
      "9037         9038                           AMERICAN CHEESE SLICES\n",
      "...           ...                                              ...\n",
      "49689       49690                    HIGH PERFORMANCE ENERGY DRINK\n",
      "49690       49691                    ORIGINAL PANCAKE & WAFFLE MIX\n",
      "49691       49692  ORGANIC INSTANT OATMEAL LIGHT MAPLE BROWN SUGAR\n",
      "49692       49693                           SPRING WATER BODY WASH\n",
      "49693       49694                          BURRITO- STEAK & CHEESE\n",
      "\n",
      "[104 rows x 2 columns]\n"
     ]
    }
   ],
   "source": [
    "products_non_missing = products[~products['product_name_upper'].isnull()]\n",
    "duplicated_product_names_non_missing = products_non_missing[products_non_missing['product_name_upper'].duplicated()]\n",
    "print(duplicated_product_names_non_missing[['product_id', 'product_name_upper']])# Revisa si hay nombres duplicados de productos no faltantes\n"
   ]
  },
  {
   "cell_type": "markdown",
   "id": "9da8d293",
   "metadata": {
    "id": "9da8d293"
   },
   "source": [
    "Describe brevemente tus hallazgos y lo que hiciste con ellos."
   ]
  },
  {
   "cell_type": "markdown",
   "id": "60f30db1",
   "metadata": {
    "id": "60f30db1"
   },
   "source": [
    "### `departments` data frame"
   ]
  },
  {
   "cell_type": "code",
   "execution_count": 17,
   "id": "fb410ad4-0fbf-4b80-bb09-23fdea79afe3",
   "metadata": {
    "id": "fb410ad4-0fbf-4b80-bb09-23fdea79afe3"
   },
   "outputs": [
    {
     "name": "stdout",
     "output_type": "stream",
     "text": [
      "Empty DataFrame\n",
      "Columns: [department_id, department]\n",
      "Index: []\n"
     ]
    }
   ],
   "source": [
    "departments_duplicated_rows = departments[departments.duplicated()]\n",
    "print(departments_duplicated_rows)# Revisa si hay filas totalmente duplicadas"
   ]
  },
  {
   "cell_type": "code",
   "execution_count": 18,
   "id": "332b12bb",
   "metadata": {
    "id": "332b12bb"
   },
   "outputs": [
    {
     "name": "stdout",
     "output_type": "stream",
     "text": [
      "Empty DataFrame\n",
      "Columns: [department_id, department]\n",
      "Index: []\n"
     ]
    }
   ],
   "source": [
    "departments_duplicated_ids = departments[departments['department_id'].duplicated()]\n",
    "print(departments_duplicated_ids)# Revisa si hay IDs duplicadas de productos"
   ]
  },
  {
   "cell_type": "markdown",
   "id": "bd30d78e",
   "metadata": {
    "id": "bd30d78e"
   },
   "source": [
    "Describe brevemente tus hallazgos y lo que hiciste con ellos."
   ]
  },
  {
   "cell_type": "markdown",
   "id": "889349c1",
   "metadata": {
    "id": "889349c1"
   },
   "source": [
    "### `aisles` data frame"
   ]
  },
  {
   "cell_type": "code",
   "execution_count": 19,
   "id": "9da89fb9-4679-40f5-ad0d-c34df753a3f8",
   "metadata": {
    "id": "9da89fb9-4679-40f5-ad0d-c34df753a3f8"
   },
   "outputs": [
    {
     "name": "stdout",
     "output_type": "stream",
     "text": [
      "Empty DataFrame\n",
      "Columns: [aisle_id, aisle]\n",
      "Index: []\n"
     ]
    }
   ],
   "source": [
    "aisles_duplicated_rows = aisles[aisles.duplicated()]\n",
    "print(aisles_duplicated_rows)# Revisa si hay filas totalmente duplicadas"
   ]
  },
  {
   "cell_type": "code",
   "execution_count": 20,
   "id": "da7c2822",
   "metadata": {
    "id": "da7c2822"
   },
   "outputs": [
    {
     "name": "stdout",
     "output_type": "stream",
     "text": [
      "Empty DataFrame\n",
      "Columns: [aisle_id, aisle]\n",
      "Index: []\n"
     ]
    }
   ],
   "source": [
    "aisles_duplicated_ids = aisles[aisles['aisle_id'].duplicated()]\n",
    "print(aisles_duplicated_ids)# Revisa si hay IDs duplicadas de productos"
   ]
  },
  {
   "cell_type": "markdown",
   "id": "ac63826f",
   "metadata": {
    "id": "ac63826f"
   },
   "source": [
    "Describe brevemente tus hallazgos y lo que hiciste con ellos."
   ]
  },
  {
   "cell_type": "markdown",
   "id": "274cd06a",
   "metadata": {
    "id": "274cd06a"
   },
   "source": [
    "### `order_products` data frame"
   ]
  },
  {
   "cell_type": "code",
   "execution_count": 21,
   "id": "52326689-84a8-4b8f-a881-7c68780f62c9",
   "metadata": {
    "id": "52326689-84a8-4b8f-a881-7c68780f62c9"
   },
   "outputs": [
    {
     "name": "stdout",
     "output_type": "stream",
     "text": [
      "Empty DataFrame\n",
      "Columns: [order_id, product_id, add_to_cart_order, reordered]\n",
      "Index: []\n"
     ]
    }
   ],
   "source": [
    "order_products_duplicated_rows = orders_products[orders_products.duplicated()]\n",
    "print(order_products_duplicated_rows)# Revisa si hay filas totalmente duplicadas"
   ]
  },
  {
   "cell_type": "code",
   "execution_count": 22,
   "id": "7b861391",
   "metadata": {
    "id": "7b861391"
   },
   "outputs": [
    {
     "name": "stdout",
     "output_type": "stream",
     "text": [
      "0\n"
     ]
    }
   ],
   "source": [
    "order_products_implicit_duplicates = orders_products.duplicated(subset=['order_id', 'product_id']).sum()\n",
    "print(order_products_implicit_duplicates)# Vuelve a verificar si hay cualquier otro duplicado engañoso\n"
   ]
  },
  {
   "cell_type": "markdown",
   "id": "0b890492",
   "metadata": {
    "id": "0b890492"
   },
   "source": [
    "Describe brevemente tus hallazgos y lo que hiciste con ellos."
   ]
  },
  {
   "cell_type": "markdown",
   "id": "1e46de76",
   "metadata": {
    "id": "1e46de76"
   },
   "source": [
    "## Encuentra y elimina los valores ausentes\n",
    "\n",
    "Al trabajar con valores duplicados, pudimos observar que también nos falta investigar valores ausentes:\n",
    "\n",
    "* La columna `'product_name'` de la tabla products.\n",
    "* La columna `'days_since_prior_order'` de la tabla orders.\n",
    "* La columna `'add_to_cart_order'` de la tabla order_productos."
   ]
  },
  {
   "cell_type": "markdown",
   "id": "c0aebd78",
   "metadata": {
    "id": "c0aebd78"
   },
   "source": [
    "### `products` data frame"
   ]
  },
  {
   "cell_type": "code",
   "execution_count": 23,
   "id": "fe4a8b0f",
   "metadata": {
    "id": "fe4a8b0f"
   },
   "outputs": [
    {
     "name": "stdout",
     "output_type": "stream",
     "text": [
      "1258\n",
      "       product_id product_name_upper\n",
      "37             38                NaN\n",
      "71             72                NaN\n",
      "109           110                NaN\n",
      "296           297                NaN\n",
      "416           417                NaN\n",
      "...           ...                ...\n",
      "49552       49553                NaN\n",
      "49574       49575                NaN\n",
      "49640       49641                NaN\n",
      "49663       49664                NaN\n",
      "49668       49669                NaN\n",
      "\n",
      "[1258 rows x 2 columns]\n"
     ]
    }
   ],
   "source": [
    "total_missing_product_names = products['product_name'].isna().sum()\n",
    "print(total_missing_product_names)\n",
    "\n",
    "missing_product_names = products[products['product_name_upper'].isna()]\n",
    "print(missing_product_names[['product_id', 'product_name_upper']])\n",
    "# Encuentra los valores ausentes en la columna 'product_name'"
   ]
  },
  {
   "cell_type": "markdown",
   "id": "-A6x1AbJhjkp",
   "metadata": {
    "id": "-A6x1AbJhjkp"
   },
   "source": [
    "Describe brevemente cuáles son tus hallazgos."
   ]
  },
  {
   "cell_type": "code",
   "execution_count": 24,
   "id": "e96167bc",
   "metadata": {
    "id": "e96167bc"
   },
   "outputs": [
    {
     "name": "stdout",
     "output_type": "stream",
     "text": [
      "¿Todos los nombres de productos ausentes están relacionados con el pasillo con ID 100?: True\n"
     ]
    }
   ],
   "source": [
    "missing_product_ID100 = (missing_product_names['aisle_id'] == 100).all()\n",
    "print(f\"¿Todos los nombres de productos ausentes están relacionados con el pasillo con ID 100?: {missing_product_ID100}\")\n",
    "#  ¿Todos los nombres de productos ausentes están relacionados con el pasillo con ID 100?\n"
   ]
  },
  {
   "cell_type": "markdown",
   "id": "WRpIfXRphpSL",
   "metadata": {
    "id": "WRpIfXRphpSL"
   },
   "source": [
    "Describe brevemente cuáles son tus hallazgos."
   ]
  },
  {
   "cell_type": "code",
   "execution_count": 25,
   "id": "8fd0a541",
   "metadata": {
    "id": "8fd0a541"
   },
   "outputs": [
    {
     "name": "stdout",
     "output_type": "stream",
     "text": [
      "¿Todos los nombres de productos ausentes están relacionados con el departamento con ID 21?: True\n"
     ]
    }
   ],
   "source": [
    "missing_product_DEP21 = (missing_product_names['department_id'] == 21).all()\n",
    "print(f\"¿Todos los nombres de productos ausentes están relacionados con el departamento con ID 21?: {missing_product_ID100}\")\n",
    "# ¿Todos los nombres de productos ausentes están relacionados con el departamento con ID 21?\n"
   ]
  },
  {
   "cell_type": "markdown",
   "id": "qDpdYn1Fht_I",
   "metadata": {
    "id": "qDpdYn1Fht_I"
   },
   "source": [
    "Describe brevemente cuáles son tus hallazgos."
   ]
  },
  {
   "cell_type": "code",
   "execution_count": 26,
   "id": "325c3464",
   "metadata": {
    "id": "325c3464"
   },
   "outputs": [
    {
     "name": "stdout",
     "output_type": "stream",
     "text": [
      "Datos del pasillo con ID 100:\n",
      "    aisle_id    aisle\n",
      "99       100  missing\n",
      "\n",
      "Datos del departamento con ID 21:\n",
      "    department_id department\n",
      "20             21    missing\n"
     ]
    }
   ],
   "source": [
    "aisle_ID100 = aisles[aisles['aisle_id'] == 100]\n",
    "print(\"Datos del pasillo con ID 100:\")\n",
    "print(aisle_ID100)\n",
    "department_ID21 = departments[departments['department_id'] == 21]\n",
    "print(\"\\nDatos del departamento con ID 21:\")\n",
    "print(department_ID21)\n",
    "# Usa las tablas department y aisle para revisar los datos del pasillo con ID 100 y el departamento con ID 21.\n"
   ]
  },
  {
   "cell_type": "markdown",
   "id": "nqhSTUPhhvEJ",
   "metadata": {
    "id": "nqhSTUPhhvEJ"
   },
   "source": [
    "Describe brevemente cuáles son tus hallazgos."
   ]
  },
  {
   "cell_type": "code",
   "execution_count": 27,
   "id": "6b295120",
   "metadata": {
    "id": "6b295120"
   },
   "outputs": [],
   "source": [
    "products['product_name'].fillna('Unknown', inplace=True)\n",
    "aisles['aisle'].fillna('Unknown', inplace=True)\n",
    "departments['department'].fillna('Unknown', inplace=True)# Completa los nombres de productos ausentes con 'Unknown'\n"
   ]
  },
  {
   "cell_type": "markdown",
   "id": "fc70e5ad",
   "metadata": {
    "id": "fc70e5ad"
   },
   "source": [
    "Describe brevemente tus hallazgos y lo que hiciste con ellos."
   ]
  },
  {
   "cell_type": "markdown",
   "id": "7eb45c86",
   "metadata": {
    "id": "7eb45c86"
   },
   "source": [
    "### `orders` data frame"
   ]
  },
  {
   "cell_type": "code",
   "execution_count": 28,
   "id": "93e41d96",
   "metadata": {
    "id": "93e41d96"
   },
   "outputs": [
    {
     "name": "stdout",
     "output_type": "stream",
     "text": [
      "order_id                      0\n",
      "user_id                       0\n",
      "order_number                  0\n",
      "order_dow                     0\n",
      "order_hour_of_day             0\n",
      "days_since_prior_order    28817\n",
      "dtype: int64\n"
     ]
    }
   ],
   "source": [
    "orders_missing_values = orders.isna().sum()\n",
    "print(orders_missing_values)# Encuentra los valores ausentes"
   ]
  },
  {
   "cell_type": "code",
   "execution_count": 29,
   "id": "166e5a86",
   "metadata": {
    "id": "166e5a86"
   },
   "outputs": [
    {
     "name": "stdout",
     "output_type": "stream",
     "text": [
      "order_id                  0\n",
      "user_id                   0\n",
      "order_number              0\n",
      "order_dow                 0\n",
      "order_hour_of_day         0\n",
      "days_since_prior_order    0\n",
      "dtype: int64\n"
     ]
    }
   ],
   "source": [
    "non_first_orders = orders[orders['order_number'] != 1]\n",
    "missing_values_non_first_orders = non_first_orders.isna().sum()\n",
    "print(missing_values_non_first_orders)# ¿Hay algún valor ausente que no sea el primer pedido del cliente?\n"
   ]
  },
  {
   "cell_type": "markdown",
   "id": "4e23d089",
   "metadata": {
    "id": "4e23d089"
   },
   "source": [
    "Describe brevemente tus hallazgos y lo que hiciste con ellos."
   ]
  },
  {
   "cell_type": "markdown",
   "id": "69dc9ca4",
   "metadata": {
    "id": "69dc9ca4"
   },
   "source": [
    "### `order_products` data frame"
   ]
  },
  {
   "cell_type": "code",
   "execution_count": 30,
   "id": "b8240253",
   "metadata": {
    "id": "b8240253"
   },
   "outputs": [
    {
     "name": "stdout",
     "output_type": "stream",
     "text": [
      "order_id               0\n",
      "product_id             0\n",
      "add_to_cart_order    836\n",
      "reordered              0\n",
      "dtype: int64\n"
     ]
    }
   ],
   "source": [
    "ordersprod_missing_values = orders_products.isna().sum()\n",
    "print(ordersprod_missing_values)# Encuentra los valores ausentes"
   ]
  },
  {
   "cell_type": "code",
   "execution_count": 31,
   "id": "9a78e5ee",
   "metadata": {
    "id": "9a78e5ee"
   },
   "outputs": [
    {
     "name": "stdout",
     "output_type": "stream",
     "text": [
      "Valor mínimo: 1.0\n",
      "Valor máximo: 64.0\n"
     ]
    }
   ],
   "source": [
    "min_add_to_cart_order = orders_products['add_to_cart_order'].min()\n",
    "print(f\"Valor mínimo: {min_add_to_cart_order}\")\n",
    "max_add_to_cart_order = orders_products['add_to_cart_order'].max()\n",
    "print(f\"Valor máximo: {max_add_to_cart_order}\")\n",
    "# ¿Cuáles son los valores mínimos y máximos en esta columna?\n"
   ]
  },
  {
   "cell_type": "markdown",
   "id": "-Z2Ja215jW78",
   "metadata": {
    "id": "-Z2Ja215jW78"
   },
   "source": [
    "Describe brevemente cuáles son tus hallazgos."
   ]
  },
  {
   "cell_type": "code",
   "execution_count": 32,
   "id": "ab9d0c2b",
   "metadata": {
    "id": "ab9d0c2b"
   },
   "outputs": [
    {
     "name": "stdout",
     "output_type": "stream",
     "text": [
      "737        2449164\n",
      "9926       1968313\n",
      "14394      2926893\n",
      "16418      1717990\n",
      "30114      1959075\n",
      "            ...   \n",
      "4505662    1800005\n",
      "4511400    1633337\n",
      "4517562     404157\n",
      "4534112    1673227\n",
      "4535739    1832957\n",
      "Name: order_id, Length: 836, dtype: int64\n"
     ]
    }
   ],
   "source": [
    "missing_add_to_cart_order_df = orders_products[orders_products['add_to_cart_order'].isna()]\n",
    "missing_order_ids = missing_add_to_cart_order_df['order_id']\n",
    "print(missing_order_ids)\n",
    "#missing_order_ids.to_csv('/datasets/missing_add_to_cart_order_ids.csv', index=False)\n",
    "# Guarda todas las IDs de pedidos que tengan un valor ausente en 'add_to_cart_order'"
   ]
  },
  {
   "cell_type": "code",
   "execution_count": 33,
   "id": "54c31695",
   "metadata": {
    "id": "54c31695"
   },
   "outputs": [
    {
     "name": "stdout",
     "output_type": "stream",
     "text": [
      "¿Todos los pedidos con valores ausentes tienen más de 64 productos?: False\n"
     ]
    }
   ],
   "source": [
    "grouped_missing_orders = missing_add_to_cart_order_df.groupby('order_id')['product_id'].count() # Cuenta el número de 'product_id' en cada pedido y revisa el valor mínimo del conteo.\n",
    "min_product_count = grouped_missing_orders.min() # Agrupa todos los pedidos con datos ausentes por su ID de pedido.\n",
    "print(f\"¿Todos los pedidos con valores ausentes tienen más de 64 productos?: {min_product_count > 64}\")# ¿Todos los pedidos con valores ausentes tienen más de 64 productos?"
   ]
  },
  {
   "cell_type": "markdown",
   "id": "p9V6pddtjglj",
   "metadata": {
    "id": "p9V6pddtjglj"
   },
   "source": [
    "Describe brevemente cuáles son tus hallazgos."
   ]
  },
  {
   "cell_type": "code",
   "execution_count": 34,
   "id": "7a987d08",
   "metadata": {
    "id": "7a987d08"
   },
   "outputs": [
    {
     "name": "stdout",
     "output_type": "stream",
     "text": [
      "<class 'pandas.core.frame.DataFrame'>\n",
      "RangeIndex: 4545007 entries, 0 to 4545006\n",
      "Data columns (total 4 columns):\n",
      " #   Column             Non-Null Count    Dtype\n",
      "---  ------             --------------    -----\n",
      " 0   order_id           4545007 non-null  int64\n",
      " 1   product_id         4545007 non-null  int64\n",
      " 2   add_to_cart_order  4545007 non-null  int64\n",
      " 3   reordered          4545007 non-null  int64\n",
      "dtypes: int64(4)\n",
      "memory usage: 138.7 MB\n"
     ]
    }
   ],
   "source": [
    "orders_products['add_to_cart_order'].fillna(999, inplace=True) # Remplaza los valores ausentes en la columna 'add_to_cart' con 999 \n",
    "orders_products['add_to_cart_order'] = orders_products['add_to_cart_order'].astype(int) #y convierte la columna al tipo entero.\n",
    "orders_products.info(show_counts=True)"
   ]
  },
  {
   "cell_type": "markdown",
   "id": "fea4bcc7",
   "metadata": {
    "id": "fea4bcc7"
   },
   "source": [
    "Describe brevemente tus hallazgos y lo que hiciste con ellos."
   ]
  },
  {
   "cell_type": "markdown",
   "id": "RnplPFY1gSrb",
   "metadata": {
    "id": "RnplPFY1gSrb"
   },
   "source": [
    "## Conclusiones\n",
    "\n",
    "Escribe aquí tus conclusiones intermedias sobre el Paso 2. Preprocesamiento de los datos\n"
   ]
  },
  {
   "cell_type": "markdown",
   "id": "UjrOIwTcz3ri",
   "metadata": {
    "id": "UjrOIwTcz3ri"
   },
   "source": [
    "# Paso 3. Análisis de los datos\n",
    "\n",
    "Una vez los datos estén procesados y listos, haz el siguiente análisis:"
   ]
  },
  {
   "cell_type": "markdown",
   "id": "turkish-kidney",
   "metadata": {
    "id": "turkish-kidney"
   },
   "source": [
    "# [A] Fácil (deben completarse todos para aprobar)\n",
    "\n",
    "1. Verifica que los valores en las columnas `'order_hour_of_day'` y `'order_dow'` en la tabla orders sean razonables (es decir, `'order_hour_of_day'` oscile entre 0 y 23 y `'order_dow'` oscile entre 0 y 6).\n",
    "2. Crea un gráfico que muestre el número de personas que hacen pedidos dependiendo de la hora del día.\n",
    "3. Crea un gráfico que muestre qué día de la semana la gente hace sus compras.\n",
    "4. Crea un gráfico que muestre el tiempo que la gente espera hasta hacer su siguiente pedido, y comenta sobre los valores mínimos y máximos."
   ]
  },
  {
   "cell_type": "markdown",
   "id": "short-capability",
   "metadata": {
    "id": "short-capability"
   },
   "source": [
    "### [A1] Verifica que los valores sean sensibles"
   ]
  },
  {
   "cell_type": "code",
   "execution_count": 35,
   "id": "growing-fruit",
   "metadata": {
    "id": "growing-fruit"
   },
   "outputs": [
    {
     "name": "stdout",
     "output_type": "stream",
     "text": [
      "¿Los valores en la columna 'order_hour_of_day' son razonables?: True\n"
     ]
    }
   ],
   "source": [
    "ok_order_hour_of_day = orders['order_hour_of_day'].between(0, 23).all()\n",
    "print(f\"¿Los valores en la columna 'order_hour_of_day' son razonables?: {ok_order_hour_of_day}\")"
   ]
  },
  {
   "cell_type": "code",
   "execution_count": 36,
   "id": "accessory-malaysia",
   "metadata": {
    "id": "accessory-malaysia"
   },
   "outputs": [
    {
     "name": "stdout",
     "output_type": "stream",
     "text": [
      "¿Los valores en la columna 'order_dow' son razonables?: True\n"
     ]
    }
   ],
   "source": [
    "ok_order_dow = orders['order_dow'].between(0, 6).all()\n",
    "print(f\"¿Los valores en la columna 'order_dow' son razonables?: {ok_order_dow}\")"
   ]
  },
  {
   "cell_type": "markdown",
   "id": "hmR2GNQ6lCsX",
   "metadata": {
    "id": "hmR2GNQ6lCsX"
   },
   "source": [
    "Escribe aquí tus conclusiones"
   ]
  },
  {
   "cell_type": "markdown",
   "id": "a6743a70",
   "metadata": {
    "id": "a6743a70"
   },
   "source": [
    "### [A2] Para cada hora del día, ¿cuántas personas hacen órdenes?"
   ]
  },
  {
   "cell_type": "code",
   "execution_count": 37,
   "id": "a36cca27",
   "metadata": {
    "id": "a36cca27"
   },
   "outputs": [
    {
     "data": {
      "image/png": "[encoded data removed]",
      "text/plain": [
       "<Figure size 800x500 with 1 Axes>"
      ]
     },
     "metadata": {},
     "output_type": "display_data"
    }
   ],
   "source": [
    "orders_per_hour = orders.groupby('order_hour_of_day').size() #Conteo\n",
    "orders_per_hour.plot(kind='bar',\n",
    "                    figsize=[8, 5],\n",
    "                    title='Número de personas que hacen pedidos por hora del día', \n",
    "                    xlabel='Hora del día',\n",
    "                    ylabel='Número de personas que hacen pedidos')\n",
    "plt.show()"
   ]
  },
  {
   "cell_type": "markdown",
   "id": "11270eed",
   "metadata": {
    "id": "11270eed"
   },
   "source": [
    "Escribe aquí tus conclusiones"
   ]
  },
  {
   "cell_type": "markdown",
   "id": "documented-command",
   "metadata": {
    "id": "documented-command"
   },
   "source": [
    "### [A3] ¿Qué día de la semana compran víveres las personas?"
   ]
  },
  {
   "cell_type": "code",
   "execution_count": 38,
   "id": "chief-digit",
   "metadata": {
    "id": "chief-digit"
   },
   "outputs": [
    {
     "data": {
      "image/png": "[encoded data removed]",
      "text/plain": [
       "<Figure size 800x500 with 1 Axes>"
      ]
     },
     "metadata": {},
     "output_type": "display_data"
    }
   ],
   "source": [
    "orders_per_day = orders.groupby('order_dow').size() #Conteo\n",
    "orders_per_day.plot(kind='bar',\n",
    "                    figsize=[8, 5],\n",
    "                    title='Número de personas que hacen pedidos por día', \n",
    "                    xlabel='Día de la semana',\n",
    "                    ylabel='Número de personas que hacen pedidos')\n",
    "#plt.xticks(ticks=range(7), labels=['Lunes', 'Martes', 'Miércoles', 'Jueves', 'Viernes', 'Sábado', 'Domingo'], rotation=0) \n",
    "#Cuando corrí los datos por primera vez no salía como tal el día de la semana, tuve que agregar la línea superior para mejorar la apariencia del gráfico, sin embargo, los datos no tienen el orden correcto puesto que no se el orden de origen, es decir, no conozco la equivalencia original\n",
    "plt.show()"
   ]
  },
  {
   "cell_type": "markdown",
   "id": "dominant-lightning",
   "metadata": {
    "id": "dominant-lightning"
   },
   "source": [
    "Escribe aquí tus conclusiones\n",
    "<div class=\"alert alert-block alert-info\">\n",
    "<b>\n",
    "    1. No es posible determinar exactamente el día de la semana porque no están asociados los númeoros a algún día<br>\n",
    "    2. Podemos decir que los mejores días de venta son los primeros dos, posteriormente decaen<br>\n",
    "</b> <a class=\"tocSkip\"></a>\n",
    "</div>"
   ]
  },
  {
   "cell_type": "markdown",
   "id": "cutting-concert",
   "metadata": {
    "id": "cutting-concert"
   },
   "source": [
    "### [A4] ¿Cuánto tiempo esperan las personas hasta hacer otro pedido? Comenta sobre los valores mínimos y máximos."
   ]
  },
  {
   "cell_type": "code",
   "execution_count": 39,
   "id": "c231f523",
   "metadata": {
    "id": "c231f523",
    "scrolled": true
   },
   "outputs": [
    {
     "data": {
      "image/png": "[encoded data removed]",
      "text/plain": [
       "<Figure size 900x300 with 1 Axes>"
      ]
     },
     "metadata": {},
     "output_type": "display_data"
    }
   ],
   "source": [
    "days_since_orders = orders.groupby('days_since_prior_order').size()\n",
    "days_since_orders.plot(kind='bar',\n",
    "                       figsize=[9, 3],\n",
    "                       title='Días previos al siguiente pedido por número de pedidos',\n",
    "                       xlabel='Días desde el pedido anterior',\n",
    "                       ylabel='Número de pedidos')\n",
    "plt.show()\n",
    "#min_days_order = orders['days_since_prior_order'].min()\n",
    "#print(f\"El valor mínimo de días desde el pedido anterior es: {min_days_order}\")\n",
    "#max_days_order = orders['days_since_prior_order'].max()\n",
    "#print(f\"El valor máximo de días desde el pedido anterior es: {max_days_order}\")"
   ]
  },
  {
   "cell_type": "markdown",
   "id": "discrete-vertex",
   "metadata": {
    "id": "discrete-vertex"
   },
   "source": [
    "Escribe aquí tus conclusiones"
   ]
  },
  {
   "cell_type": "markdown",
   "id": "tight-staff",
   "metadata": {
    "id": "tight-staff"
   },
   "source": [
    "# [B] Intermedio (deben completarse todos para aprobar)\n",
    "\n",
    "1. ¿Existe alguna diferencia entre las distribuciones `'order_hour_of_day'` de los miércoles y los sábados? Traza gráficos de barra de `'order_hour_of_day'` para ambos días en la misma figura y describe las diferencias que observes.\n",
    "2. Grafica la distribución para el número de órdenes que hacen los clientes (es decir, cuántos clientes hicieron solo 1 pedido, cuántos hicieron 2, cuántos 3, y así sucesivamente...).\n",
    "3. ¿Cuáles son los 20 principales productos que se piden con más frecuencia (muestra su identificación y nombre)?"
   ]
  },
  {
   "cell_type": "markdown",
   "id": "packed-classic",
   "metadata": {
    "id": "packed-classic"
   },
   "source": [
    "### [B1] Diferencia entre miércoles y sábados para  `'order_hour_of_day'`. Traza gráficos de barra para los dos días y describe las diferencias que veas."
   ]
  },
  {
   "cell_type": "code",
   "execution_count": 40,
   "id": "d89b8403",
   "metadata": {
    "id": "d89b8403"
   },
   "outputs": [],
   "source": [
    "# NOTA: Para esta pregunta considero una semana que inicia en lunes (order_dow == 0), quedo atento a confirmar dicha suposición\n",
    "# 1. Filtrar los pedidos de los miércoles (order_dow == 2) y sábados (order_dow == 5)\n",
    "w_orders = orders[orders['order_dow'] == 2]\n",
    "s_orders = orders[orders['order_dow'] == 5]\n",
    "#df[df['male'] == 1]['height'].plot(kind='hist', bins=30)"
   ]
  },
  {
   "cell_type": "code",
   "execution_count": 41,
   "id": "94e54e8a",
   "metadata": {
    "id": "94e54e8a"
   },
   "outputs": [],
   "source": [
    "# 2. Se cuentan cuántas personas hacen órdenes para cada hora del día los miércoles y sábado respectivamente:\n",
    "w_orders_per_hour = w_orders.groupby('order_hour_of_day').size()\n",
    "s_orders_per_hour = s_orders.groupby('order_hour_of_day').size()"
   ]
  },
  {
   "cell_type": "code",
   "execution_count": 52,
   "id": "797c90a8",
   "metadata": {
    "id": "797c90a8"
   },
   "outputs": [
    {
     "data": {
      "image/png": "[encoded data removed]",
      "text/plain": [
       "<Figure size 1000x300 with 2 Axes>"
      ]
     },
     "metadata": {},
     "output_type": "display_data"
    }
   ],
   "source": [
    "# Gráfico para los miércoles\n",
    "plt.subplot(1, 2, 1)\n",
    "w_orders_per_hour.plot(kind='bar',\n",
    "                       figsize=[10,3],\n",
    "                       color='blue',\n",
    "                       title='Pedidos por hora del Miércoles',\n",
    "                       xlabel='Hora',\n",
    "                       ylabel='Número de pedidos',\n",
    "                       )\n",
    "# Gráfico para los sábados\n",
    "plt.subplot(1, 2, 2)\n",
    "s_orders_per_hour.plot(kind='bar', \n",
    "                       color='green',\n",
    "                       xlabel='Hora',\n",
    "                       ylabel='Número de pedidos',\n",
    "                       title='Pedidos por hora del Sábado',\n",
    "                       figsize=[10,3])\n",
    "plt.show()"
   ]
  },
  {
   "cell_type": "code",
   "execution_count": 51,
   "id": "35bcea30",
   "metadata": {
    "id": "35bcea30"
   },
   "outputs": [
    {
     "name": "stdout",
     "output_type": "stream",
     "text": [
      "Diferencias observadas entre las distribuciones 'order_hour_of_day' de los miércoles y los sábados:\n",
      "1. Los miércoles, el número de pedidos tiende a ser más alto durante las horas laborales (8 AM a 5 PM).\n",
      "2. Los sábados, el número de pedidos tiende a ser más alto durante las horas de la mañana y la tarde (9 AM a 6 PM).\n",
      "3. Los sábados, hay un pico notable en el número de pedidos alrededor del mediodía (12 PM).\n"
     ]
    }
   ],
   "source": [
    "print(\"Diferencias observadas entre las distribuciones 'order_hour_of_day' de los miércoles y los sábados:\")\n",
    "print(\"1. Los miércoles, el número de pedidos tiende a ser más alto durante las horas laborales (8 AM a 5 PM).\")\n",
    "print(\"2. Los sábados, el número de pedidos tiende a ser más alto durante las horas de la mañana y la tarde (9 AM a 6 PM).\")\n",
    "print(\"3. Los sábados, hay un pico notable en el número de pedidos alrededor del mediodía (12 PM).\")"
   ]
  },
  {
   "cell_type": "markdown",
   "id": "charitable-congo",
   "metadata": {
    "id": "charitable-congo"
   },
   "source": [
    "Escribe aquí tus conclusiones"
   ]
  },
  {
   "cell_type": "markdown",
   "id": "e3891143",
   "metadata": {
    "id": "e3891143"
   },
   "source": [
    "### [B2] ¿Cuál es la distribución para el número de pedidos por cliente?"
   ]
  },
  {
   "cell_type": "code",
   "execution_count": null,
   "id": "d8c26c23",
   "metadata": {
    "id": "d8c26c23"
   },
   "outputs": [],
   "source": []
  },
  {
   "cell_type": "code",
   "execution_count": null,
   "id": "00e69a66",
   "metadata": {
    "id": "00e69a66"
   },
   "outputs": [],
   "source": []
  },
  {
   "cell_type": "markdown",
   "id": "d2eff7d5",
   "metadata": {
    "id": "d2eff7d5"
   },
   "source": [
    "Escribe aquí tus conclusiones"
   ]
  },
  {
   "cell_type": "markdown",
   "id": "54a0319c",
   "metadata": {
    "id": "54a0319c"
   },
   "source": [
    "### [B3] ¿Cuáles son los 20 productos más populares (muestra su ID y nombre)?"
   ]
  },
  {
   "cell_type": "code",
   "execution_count": null,
   "id": "exterior-arizona",
   "metadata": {
    "id": "exterior-arizona",
    "scrolled": true
   },
   "outputs": [],
   "source": []
  },
  {
   "cell_type": "code",
   "execution_count": null,
   "id": "universal-facial",
   "metadata": {
    "id": "universal-facial"
   },
   "outputs": [],
   "source": []
  },
  {
   "cell_type": "code",
   "execution_count": null,
   "id": "bbcdd20b",
   "metadata": {
    "id": "bbcdd20b"
   },
   "outputs": [],
   "source": []
  },
  {
   "cell_type": "markdown",
   "id": "7df00f47",
   "metadata": {
    "id": "7df00f47"
   },
   "source": [
    "Escribe aquí tus conclusiones"
   ]
  },
  {
   "cell_type": "markdown",
   "id": "gross-theme",
   "metadata": {
    "id": "gross-theme"
   },
   "source": [
    "# [C] Difícil (deben completarse todos para aprobar)\n",
    "\n",
    "1. ¿Cuántos artículos suelen comprar las personas en un pedido? ¿Cómo es la distribución?\n",
    "2. ¿Cuáles son los 20 principales artículos que vuelven a pedirse con mayor frecuencia (muestra sus nombres e IDs de los productos)?\n",
    "3. Para cada producto, ¿cuál es la tasa de repetición del pedido (número de repeticiones de pedido/total de pedidos?\n",
    "4. Para cada cliente, ¿qué proporción de los productos que pidió ya los había pedido? Calcula la tasa de repetición de pedido para cada usuario en lugar de para cada producto.\n",
    "5. ¿Cuáles son los 20 principales artículos que la gente pone primero en sus carritos (muestra las IDs de los productos, sus nombres, y el número de veces en que fueron el primer artículo en añadirse al carrito)?"
   ]
  },
  {
   "cell_type": "markdown",
   "id": "romantic-deposit",
   "metadata": {
    "id": "romantic-deposit"
   },
   "source": [
    "### [C1] ¿Cuántos artículos compran normalmente las personas en un pedido? ¿Cómo es la distribución?"
   ]
  },
  {
   "cell_type": "code",
   "execution_count": null,
   "id": "virtual-punch",
   "metadata": {
    "id": "virtual-punch"
   },
   "outputs": [],
   "source": []
  },
  {
   "cell_type": "code",
   "execution_count": null,
   "id": "sensitive-breathing",
   "metadata": {
    "id": "sensitive-breathing"
   },
   "outputs": [],
   "source": []
  },
  {
   "cell_type": "code",
   "execution_count": null,
   "id": "completed-frank",
   "metadata": {
    "id": "completed-frank"
   },
   "outputs": [],
   "source": []
  },
  {
   "cell_type": "markdown",
   "id": "designed-mortality",
   "metadata": {
    "id": "designed-mortality"
   },
   "source": [
    "Escribe aquí tus conclusiones"
   ]
  },
  {
   "cell_type": "markdown",
   "id": "5e6b5537",
   "metadata": {
    "id": "5e6b5537"
   },
   "source": [
    "### [C2] ¿Cuáles son los 20 principales artículos que vuelven a pedirse con mayor frecuencia (muestra sus nombres e IDs de los productos)?"
   ]
  },
  {
   "cell_type": "code",
   "execution_count": null,
   "id": "9374e55a",
   "metadata": {
    "id": "9374e55a"
   },
   "outputs": [],
   "source": []
  },
  {
   "cell_type": "code",
   "execution_count": null,
   "id": "possible-change",
   "metadata": {
    "id": "possible-change",
    "scrolled": true
   },
   "outputs": [],
   "source": []
  },
  {
   "cell_type": "code",
   "execution_count": null,
   "id": "professional-surfing",
   "metadata": {
    "id": "professional-surfing",
    "scrolled": true
   },
   "outputs": [],
   "source": []
  },
  {
   "cell_type": "code",
   "execution_count": null,
   "id": "48dd3658",
   "metadata": {
    "id": "48dd3658"
   },
   "outputs": [],
   "source": []
  },
  {
   "cell_type": "markdown",
   "id": "80e70c74",
   "metadata": {
    "id": "80e70c74"
   },
   "source": [
    "Escribe aquí tus conclusiones"
   ]
  },
  {
   "cell_type": "markdown",
   "id": "9d312b14",
   "metadata": {
    "id": "9d312b14"
   },
   "source": [
    "### [C3] Para cada producto, ¿cuál es la proporción de las veces que se pide y que se vuelve a pedir?"
   ]
  },
  {
   "cell_type": "code",
   "execution_count": null,
   "id": "8ae9f4b1",
   "metadata": {
    "id": "8ae9f4b1"
   },
   "outputs": [],
   "source": []
  },
  {
   "cell_type": "code",
   "execution_count": null,
   "id": "103e7fe1",
   "metadata": {
    "id": "103e7fe1"
   },
   "outputs": [],
   "source": []
  },
  {
   "cell_type": "code",
   "execution_count": null,
   "id": "social-individual",
   "metadata": {
    "id": "social-individual"
   },
   "outputs": [],
   "source": []
  },
  {
   "cell_type": "markdown",
   "id": "I10dEIAyldcO",
   "metadata": {
    "id": "I10dEIAyldcO"
   },
   "source": [
    "Escribe aquí tus conclusiones"
   ]
  },
  {
   "cell_type": "markdown",
   "id": "subject-boxing",
   "metadata": {
    "id": "subject-boxing"
   },
   "source": [
    "### [C4] Para cada cliente, ¿qué proporción de sus productos ya los había pedido?"
   ]
  },
  {
   "cell_type": "code",
   "execution_count": null,
   "id": "medical-couple",
   "metadata": {
    "id": "medical-couple",
    "scrolled": true
   },
   "outputs": [],
   "source": []
  },
  {
   "cell_type": "code",
   "execution_count": null,
   "id": "8892e4b4",
   "metadata": {
    "id": "8892e4b4"
   },
   "outputs": [],
   "source": []
  },
  {
   "cell_type": "markdown",
   "id": "BgJSvXDsleXz",
   "metadata": {
    "id": "BgJSvXDsleXz"
   },
   "source": [
    "Escribe aquí tus conclusiones"
   ]
  },
  {
   "cell_type": "markdown",
   "id": "92d35137",
   "metadata": {
    "id": "92d35137"
   },
   "source": [
    "### [C5] ¿Cuáles son los 20 principales artículos que las personas ponen primero en sus carritos?"
   ]
  },
  {
   "cell_type": "code",
   "execution_count": null,
   "id": "0ae57274",
   "metadata": {
    "id": "0ae57274",
    "scrolled": true
   },
   "outputs": [],
   "source": []
  },
  {
   "cell_type": "code",
   "execution_count": null,
   "id": "forty-netherlands",
   "metadata": {
    "id": "forty-netherlands",
    "scrolled": true
   },
   "outputs": [],
   "source": []
  },
  {
   "cell_type": "code",
   "execution_count": null,
   "id": "08e41ec2",
   "metadata": {
    "id": "08e41ec2"
   },
   "outputs": [],
   "source": []
  },
  {
   "cell_type": "markdown",
   "id": "28ce9872",
   "metadata": {
    "id": "28ce9872"
   },
   "source": [
    "Escribe aquí tus conclusiones"
   ]
  },
  {
   "cell_type": "markdown",
   "id": "uITbFCEoDosC",
   "metadata": {
    "id": "uITbFCEoDosC"
   },
   "source": [
    "### Conclusion general del proyecto:"
   ]
  },
  {
   "cell_type": "code",
   "execution_count": null,
   "id": "Nk-4GS7mDwqY",
   "metadata": {
    "id": "Nk-4GS7mDwqY"
   },
   "outputs": [],
   "source": []
  },
  {
   "cell_type": "code",
   "execution_count": null,
   "id": "4e4e0eea",
   "metadata": {},
   "outputs": [],
   "source": []
  }
 ],
 "metadata": {
  "ExecuteTimeLog": [
   {
    "duration": 295,
    "start_time": "2024-11-10T19:49:09.388Z"
   },
   {
    "duration": 5,
    "start_time": "2024-11-10T19:49:11.074Z"
   },
   {
    "duration": 3,
    "start_time": "2024-11-10T19:49:55.344Z"
   },
   {
    "duration": 4,
    "start_time": "2024-11-10T19:50:20.817Z"
   },
   {
    "duration": 3,
    "start_time": "2024-11-10T19:50:56.270Z"
   },
   {
    "duration": 5,
    "start_time": "2024-11-10T19:50:57.574Z"
   },
   {
    "duration": 2516,
    "start_time": "2024-11-10T19:53:03.607Z"
   },
   {
    "duration": 24,
    "start_time": "2024-11-10T19:53:09.649Z"
   },
   {
    "duration": 11,
    "start_time": "2024-11-10T19:53:28.306Z"
   },
   {
    "duration": 8,
    "start_time": "2024-11-10T19:53:37.393Z"
   },
   {
    "duration": 8,
    "start_time": "2024-11-10T19:53:49.339Z"
   },
   {
    "duration": 7,
    "start_time": "2024-11-10T19:53:55.367Z"
   },
   {
    "duration": 20,
    "start_time": "2024-11-10T20:03:32.436Z"
   },
   {
    "duration": 20,
    "start_time": "2024-11-10T20:04:01.968Z"
   },
   {
    "duration": 10,
    "start_time": "2024-11-10T20:04:22.075Z"
   },
   {
    "duration": 21,
    "start_time": "2024-11-10T20:09:01.419Z"
   },
   {
    "duration": 167,
    "start_time": "2024-11-12T02:43:41.256Z"
   },
   {
    "duration": 342,
    "start_time": "2024-11-12T02:44:07.641Z"
   },
   {
    "duration": 45,
    "start_time": "2024-11-12T02:44:10.171Z"
   },
   {
    "duration": 2402,
    "start_time": "2024-11-12T02:44:25.958Z"
   },
   {
    "duration": 2031,
    "start_time": "2024-11-12T02:44:54.684Z"
   },
   {
    "duration": 13,
    "start_time": "2024-11-12T02:45:02.168Z"
   },
   {
    "duration": 3,
    "start_time": "2024-11-12T02:45:53.623Z"
   },
   {
    "duration": 908,
    "start_time": "2024-11-12T02:45:55.200Z"
   },
   {
    "duration": 13,
    "start_time": "2024-11-12T02:45:58.185Z"
   },
   {
    "duration": 11,
    "start_time": "2024-11-12T02:46:05.125Z"
   },
   {
    "duration": 10,
    "start_time": "2024-11-12T02:46:58.918Z"
   },
   {
    "duration": 9,
    "start_time": "2024-11-12T02:47:07.129Z"
   },
   {
    "duration": 8,
    "start_time": "2024-11-12T02:47:19.448Z"
   },
   {
    "duration": 75,
    "start_time": "2024-11-12T03:40:52.081Z"
   },
   {
    "duration": 73,
    "start_time": "2024-11-12T03:41:54.173Z"
   },
   {
    "duration": 68,
    "start_time": "2024-11-12T03:42:16.803Z"
   },
   {
    "duration": 18,
    "start_time": "2024-11-12T03:46:40.791Z"
   },
   {
    "duration": 16,
    "start_time": "2024-11-12T03:47:00.462Z"
   },
   {
    "duration": 14,
    "start_time": "2024-11-12T04:12:32.429Z"
   },
   {
    "duration": 3,
    "start_time": "2024-11-12T04:12:43.630Z"
   },
   {
    "duration": 827,
    "start_time": "2024-11-12T04:12:44.632Z"
   },
   {
    "duration": 9,
    "start_time": "2024-11-12T04:12:47.959Z"
   },
   {
    "duration": 9,
    "start_time": "2024-11-12T04:12:52.931Z"
   },
   {
    "duration": 8,
    "start_time": "2024-11-12T04:12:53.626Z"
   },
   {
    "duration": 8,
    "start_time": "2024-11-12T04:12:56.240Z"
   },
   {
    "duration": 8,
    "start_time": "2024-11-12T04:13:00.663Z"
   },
   {
    "duration": 72,
    "start_time": "2024-11-12T04:13:15.222Z"
   },
   {
    "duration": 75,
    "start_time": "2024-11-12T04:13:19.240Z"
   },
   {
    "duration": 94,
    "start_time": "2024-11-12T04:20:25.967Z"
   },
   {
    "duration": 301,
    "start_time": "2024-11-12T06:29:05.951Z"
   },
   {
    "duration": 998,
    "start_time": "2024-11-12T06:29:08.211Z"
   },
   {
    "duration": 11,
    "start_time": "2024-11-12T06:29:10.280Z"
   },
   {
    "duration": 10,
    "start_time": "2024-11-12T06:29:14.123Z"
   },
   {
    "duration": 10,
    "start_time": "2024-11-12T06:29:17.363Z"
   },
   {
    "duration": 8,
    "start_time": "2024-11-12T06:29:20.342Z"
   },
   {
    "duration": 8,
    "start_time": "2024-11-12T06:29:23.381Z"
   },
   {
    "duration": 97,
    "start_time": "2024-11-12T06:29:30.617Z"
   },
   {
    "duration": 107,
    "start_time": "2024-11-12T06:29:42.688Z"
   },
   {
    "duration": 106,
    "start_time": "2024-11-12T06:31:38.245Z"
   },
   {
    "duration": 89,
    "start_time": "2024-11-12T06:31:39.489Z"
   },
   {
    "duration": 30,
    "start_time": "2024-11-12T06:41:50.872Z"
   },
   {
    "duration": 289,
    "start_time": "2024-11-12T16:45:40.444Z"
   },
   {
    "duration": 966,
    "start_time": "2024-11-12T16:45:40.735Z"
   },
   {
    "duration": 12,
    "start_time": "2024-11-12T16:45:41.702Z"
   },
   {
    "duration": 9,
    "start_time": "2024-11-12T16:45:41.716Z"
   },
   {
    "duration": 19,
    "start_time": "2024-11-12T16:45:41.743Z"
   },
   {
    "duration": 8,
    "start_time": "2024-11-12T16:45:41.788Z"
   },
   {
    "duration": 9,
    "start_time": "2024-11-12T16:45:45.064Z"
   },
   {
    "duration": 103,
    "start_time": "2024-11-12T16:45:58.367Z"
   },
   {
    "duration": 123,
    "start_time": "2024-11-12T16:45:58.747Z"
   },
   {
    "duration": 111,
    "start_time": "2024-11-12T16:46:01.263Z"
   },
   {
    "duration": 120,
    "start_time": "2024-11-12T16:46:01.450Z"
   },
   {
    "duration": 29,
    "start_time": "2024-11-12T16:46:02.400Z"
   },
   {
    "duration": 3,
    "start_time": "2024-11-12T16:46:14.668Z"
   },
   {
    "duration": 360,
    "start_time": "2024-11-14T03:14:12.651Z"
   },
   {
    "duration": 1098,
    "start_time": "2024-11-14T03:14:13.014Z"
   },
   {
    "duration": 14,
    "start_time": "2024-11-14T03:14:14.114Z"
   },
   {
    "duration": 10,
    "start_time": "2024-11-14T03:14:14.130Z"
   },
   {
    "duration": 8,
    "start_time": "2024-11-14T03:14:14.142Z"
   },
   {
    "duration": 8,
    "start_time": "2024-11-14T03:14:14.154Z"
   },
   {
    "duration": 51,
    "start_time": "2024-11-14T03:14:14.164Z"
   },
   {
    "duration": 95,
    "start_time": "2024-11-14T03:14:14.217Z"
   },
   {
    "duration": 109,
    "start_time": "2024-11-14T03:14:14.314Z"
   },
   {
    "duration": 117,
    "start_time": "2024-11-14T03:14:14.427Z"
   },
   {
    "duration": 99,
    "start_time": "2024-11-14T03:14:14.546Z"
   },
   {
    "duration": 29,
    "start_time": "2024-11-14T03:14:14.647Z"
   },
   {
    "duration": 2,
    "start_time": "2024-11-14T03:14:14.678Z"
   },
   {
    "duration": 3,
    "start_time": "2024-11-14T03:14:14.682Z"
   },
   {
    "duration": 16,
    "start_time": "2024-11-14T03:14:14.687Z"
   },
   {
    "duration": 3,
    "start_time": "2024-11-14T03:14:14.718Z"
   },
   {
    "duration": 2,
    "start_time": "2024-11-14T03:14:14.723Z"
   },
   {
    "duration": 3,
    "start_time": "2024-11-14T03:14:14.727Z"
   },
   {
    "duration": 2,
    "start_time": "2024-11-14T03:14:14.733Z"
   },
   {
    "duration": 2,
    "start_time": "2024-11-14T03:14:14.737Z"
   },
   {
    "duration": 3,
    "start_time": "2024-11-14T03:14:14.741Z"
   },
   {
    "duration": 3,
    "start_time": "2024-11-14T03:14:14.746Z"
   },
   {
    "duration": 3,
    "start_time": "2024-11-14T03:14:14.750Z"
   },
   {
    "duration": 2,
    "start_time": "2024-11-14T03:14:14.755Z"
   },
   {
    "duration": 3,
    "start_time": "2024-11-14T03:14:14.760Z"
   },
   {
    "duration": 3,
    "start_time": "2024-11-14T03:14:14.765Z"
   },
   {
    "duration": 43,
    "start_time": "2024-11-14T03:14:14.769Z"
   },
   {
    "duration": 4,
    "start_time": "2024-11-14T03:14:14.816Z"
   },
   {
    "duration": 3,
    "start_time": "2024-11-14T03:14:14.822Z"
   },
   {
    "duration": 2,
    "start_time": "2024-11-14T03:14:14.826Z"
   },
   {
    "duration": 3,
    "start_time": "2024-11-14T03:14:14.830Z"
   },
   {
    "duration": 2,
    "start_time": "2024-11-14T03:14:14.835Z"
   },
   {
    "duration": 3,
    "start_time": "2024-11-14T03:14:14.839Z"
   },
   {
    "duration": 3,
    "start_time": "2024-11-14T03:14:14.843Z"
   },
   {
    "duration": 2502,
    "start_time": "2024-11-14T03:34:23.067Z"
   },
   {
    "duration": 1018,
    "start_time": "2024-11-14T03:34:25.571Z"
   },
   {
    "duration": 31,
    "start_time": "2024-11-14T03:34:26.591Z"
   },
   {
    "duration": 14,
    "start_time": "2024-11-14T03:34:26.636Z"
   },
   {
    "duration": 8,
    "start_time": "2024-11-14T03:34:26.652Z"
   },
   {
    "duration": 8,
    "start_time": "2024-11-14T03:34:26.661Z"
   },
   {
    "duration": 23,
    "start_time": "2024-11-14T03:34:26.671Z"
   },
   {
    "duration": 95,
    "start_time": "2024-11-14T03:34:26.695Z"
   },
   {
    "duration": 115,
    "start_time": "2024-11-14T03:34:26.792Z"
   },
   {
    "duration": 130,
    "start_time": "2024-11-14T03:34:26.909Z"
   },
   {
    "duration": 117,
    "start_time": "2024-11-14T03:34:27.048Z"
   },
   {
    "duration": 38,
    "start_time": "2024-11-14T03:34:27.167Z"
   },
   {
    "duration": 20,
    "start_time": "2024-11-14T03:34:27.211Z"
   },
   {
    "duration": 4,
    "start_time": "2024-11-14T03:34:27.236Z"
   },
   {
    "duration": 7,
    "start_time": "2024-11-14T03:34:27.252Z"
   },
   {
    "duration": 3,
    "start_time": "2024-11-14T03:34:27.268Z"
   },
   {
    "duration": 2,
    "start_time": "2024-11-14T03:34:27.273Z"
   },
   {
    "duration": 2,
    "start_time": "2024-11-14T03:34:27.277Z"
   },
   {
    "duration": 2,
    "start_time": "2024-11-14T03:34:27.281Z"
   },
   {
    "duration": 2,
    "start_time": "2024-11-14T03:34:27.285Z"
   },
   {
    "duration": 2,
    "start_time": "2024-11-14T03:34:27.289Z"
   },
   {
    "duration": 2,
    "start_time": "2024-11-14T03:34:27.293Z"
   },
   {
    "duration": 2,
    "start_time": "2024-11-14T03:34:27.298Z"
   },
   {
    "duration": 2,
    "start_time": "2024-11-14T03:34:27.302Z"
   },
   {
    "duration": 2,
    "start_time": "2024-11-14T03:34:27.306Z"
   },
   {
    "duration": 2,
    "start_time": "2024-11-14T03:34:27.310Z"
   },
   {
    "duration": 2,
    "start_time": "2024-11-14T03:34:27.314Z"
   },
   {
    "duration": 3,
    "start_time": "2024-11-14T03:34:27.321Z"
   },
   {
    "duration": 2,
    "start_time": "2024-11-14T03:34:27.326Z"
   },
   {
    "duration": 3,
    "start_time": "2024-11-14T03:34:27.330Z"
   },
   {
    "duration": 3,
    "start_time": "2024-11-14T03:34:27.334Z"
   },
   {
    "duration": 3,
    "start_time": "2024-11-14T03:34:27.338Z"
   },
   {
    "duration": 2,
    "start_time": "2024-11-14T03:34:27.342Z"
   },
   {
    "duration": 4,
    "start_time": "2024-11-14T03:34:27.346Z"
   },
   {
    "duration": 15,
    "start_time": "2024-11-14T05:18:23.827Z"
   },
   {
    "duration": 17,
    "start_time": "2024-11-14T05:21:22.760Z"
   },
   {
    "duration": 471,
    "start_time": "2024-11-14T05:22:20.740Z"
   },
   {
    "duration": 945,
    "start_time": "2024-11-14T05:22:21.214Z"
   },
   {
    "duration": 12,
    "start_time": "2024-11-14T05:22:22.161Z"
   },
   {
    "duration": 11,
    "start_time": "2024-11-14T05:22:22.175Z"
   },
   {
    "duration": 25,
    "start_time": "2024-11-14T05:22:22.189Z"
   },
   {
    "duration": 8,
    "start_time": "2024-11-14T05:22:22.217Z"
   },
   {
    "duration": 24,
    "start_time": "2024-11-14T05:22:22.227Z"
   },
   {
    "duration": 122,
    "start_time": "2024-11-14T05:22:22.253Z"
   },
   {
    "duration": 126,
    "start_time": "2024-11-14T05:22:22.376Z"
   },
   {
    "duration": 110,
    "start_time": "2024-11-14T05:22:22.504Z"
   },
   {
    "duration": 97,
    "start_time": "2024-11-14T05:22:22.616Z"
   },
   {
    "duration": 30,
    "start_time": "2024-11-14T05:22:22.715Z"
   },
   {
    "duration": 14,
    "start_time": "2024-11-14T05:22:22.748Z"
   },
   {
    "duration": 4,
    "start_time": "2024-11-14T05:22:22.767Z"
   },
   {
    "duration": 2,
    "start_time": "2024-11-14T05:22:22.773Z"
   },
   {
    "duration": 3,
    "start_time": "2024-11-14T05:22:22.777Z"
   },
   {
    "duration": 3,
    "start_time": "2024-11-14T05:22:22.813Z"
   },
   {
    "duration": 2,
    "start_time": "2024-11-14T05:22:22.818Z"
   },
   {
    "duration": 3,
    "start_time": "2024-11-14T05:22:22.822Z"
   },
   {
    "duration": 3,
    "start_time": "2024-11-14T05:22:22.826Z"
   },
   {
    "duration": 3,
    "start_time": "2024-11-14T05:22:22.831Z"
   },
   {
    "duration": 4,
    "start_time": "2024-11-14T05:22:22.835Z"
   },
   {
    "duration": 2,
    "start_time": "2024-11-14T05:22:22.842Z"
   },
   {
    "duration": 3,
    "start_time": "2024-11-14T05:22:22.846Z"
   },
   {
    "duration": 3,
    "start_time": "2024-11-14T05:22:22.851Z"
   },
   {
    "duration": 3,
    "start_time": "2024-11-14T05:22:22.856Z"
   },
   {
    "duration": 2,
    "start_time": "2024-11-14T05:22:22.861Z"
   },
   {
    "duration": 3,
    "start_time": "2024-11-14T05:22:22.913Z"
   },
   {
    "duration": 3,
    "start_time": "2024-11-14T05:22:22.918Z"
   },
   {
    "duration": 3,
    "start_time": "2024-11-14T05:22:22.922Z"
   },
   {
    "duration": 2,
    "start_time": "2024-11-14T05:22:22.927Z"
   },
   {
    "duration": 2,
    "start_time": "2024-11-14T05:22:22.931Z"
   },
   {
    "duration": 3,
    "start_time": "2024-11-14T05:22:22.935Z"
   },
   {
    "duration": 3,
    "start_time": "2024-11-14T05:22:22.940Z"
   },
   {
    "duration": 438,
    "start_time": "2024-11-14T05:24:11.201Z"
   },
   {
    "duration": 938,
    "start_time": "2024-11-14T05:24:11.641Z"
   },
   {
    "duration": 12,
    "start_time": "2024-11-14T05:24:12.581Z"
   },
   {
    "duration": 22,
    "start_time": "2024-11-14T05:24:12.595Z"
   },
   {
    "duration": 9,
    "start_time": "2024-11-14T05:24:12.619Z"
   },
   {
    "duration": 12,
    "start_time": "2024-11-14T05:24:12.630Z"
   },
   {
    "duration": 25,
    "start_time": "2024-11-14T05:24:12.644Z"
   },
   {
    "duration": 125,
    "start_time": "2024-11-14T05:24:12.671Z"
   },
   {
    "duration": 99,
    "start_time": "2024-11-14T05:24:12.798Z"
   },
   {
    "duration": 133,
    "start_time": "2024-11-14T05:24:12.902Z"
   },
   {
    "duration": 129,
    "start_time": "2024-11-14T05:24:13.037Z"
   },
   {
    "duration": 43,
    "start_time": "2024-11-14T05:24:13.169Z"
   },
   {
    "duration": 19,
    "start_time": "2024-11-14T05:24:13.214Z"
   },
   {
    "duration": 4,
    "start_time": "2024-11-14T05:24:13.235Z"
   },
   {
    "duration": 23,
    "start_time": "2024-11-14T05:24:13.241Z"
   },
   {
    "duration": 2,
    "start_time": "2024-11-14T05:24:13.266Z"
   },
   {
    "duration": 7,
    "start_time": "2024-11-14T05:24:13.269Z"
   },
   {
    "duration": 3,
    "start_time": "2024-11-14T05:24:13.277Z"
   },
   {
    "duration": 31,
    "start_time": "2024-11-14T05:24:13.281Z"
   },
   {
    "duration": 2,
    "start_time": "2024-11-14T05:24:13.314Z"
   },
   {
    "duration": 3,
    "start_time": "2024-11-14T05:24:13.318Z"
   },
   {
    "duration": 4,
    "start_time": "2024-11-14T05:24:13.323Z"
   },
   {
    "duration": 2,
    "start_time": "2024-11-14T05:24:13.330Z"
   },
   {
    "duration": 2,
    "start_time": "2024-11-14T05:24:13.334Z"
   },
   {
    "duration": 3,
    "start_time": "2024-11-14T05:24:13.338Z"
   },
   {
    "duration": 2,
    "start_time": "2024-11-14T05:24:13.343Z"
   },
   {
    "duration": 3,
    "start_time": "2024-11-14T05:24:13.347Z"
   },
   {
    "duration": 4,
    "start_time": "2024-11-14T05:24:13.353Z"
   },
   {
    "duration": 2,
    "start_time": "2024-11-14T05:24:13.359Z"
   },
   {
    "duration": 49,
    "start_time": "2024-11-14T05:24:13.363Z"
   },
   {
    "duration": 3,
    "start_time": "2024-11-14T05:24:13.414Z"
   },
   {
    "duration": 2,
    "start_time": "2024-11-14T05:24:13.419Z"
   },
   {
    "duration": 2,
    "start_time": "2024-11-14T05:24:13.424Z"
   },
   {
    "duration": 3,
    "start_time": "2024-11-14T05:24:13.428Z"
   },
   {
    "duration": 437,
    "start_time": "2024-11-14T05:28:47.962Z"
   },
   {
    "duration": 922,
    "start_time": "2024-11-14T05:28:48.401Z"
   },
   {
    "duration": 11,
    "start_time": "2024-11-14T05:28:49.325Z"
   },
   {
    "duration": 9,
    "start_time": "2024-11-14T05:28:49.339Z"
   },
   {
    "duration": 10,
    "start_time": "2024-11-14T05:28:49.349Z"
   },
   {
    "duration": 10,
    "start_time": "2024-11-14T05:28:49.360Z"
   },
   {
    "duration": 63,
    "start_time": "2024-11-14T05:28:49.372Z"
   },
   {
    "duration": 105,
    "start_time": "2024-11-14T05:28:49.437Z"
   },
   {
    "duration": 123,
    "start_time": "2024-11-14T05:28:49.544Z"
   },
   {
    "duration": 106,
    "start_time": "2024-11-14T05:28:49.671Z"
   },
   {
    "duration": 113,
    "start_time": "2024-11-14T05:28:49.780Z"
   },
   {
    "duration": 39,
    "start_time": "2024-11-14T05:28:49.895Z"
   },
   {
    "duration": 20,
    "start_time": "2024-11-14T05:28:49.935Z"
   },
   {
    "duration": 5,
    "start_time": "2024-11-14T05:28:49.963Z"
   },
   {
    "duration": 42,
    "start_time": "2024-11-14T05:28:49.970Z"
   },
   {
    "duration": 16,
    "start_time": "2024-11-14T05:28:50.015Z"
   },
   {
    "duration": 3,
    "start_time": "2024-11-14T05:28:50.032Z"
   },
   {
    "duration": 2,
    "start_time": "2024-11-14T05:28:50.037Z"
   },
   {
    "duration": 3,
    "start_time": "2024-11-14T05:28:50.041Z"
   },
   {
    "duration": 3,
    "start_time": "2024-11-14T05:28:50.045Z"
   },
   {
    "duration": 3,
    "start_time": "2024-11-14T05:28:50.049Z"
   },
   {
    "duration": 3,
    "start_time": "2024-11-14T05:28:50.054Z"
   },
   {
    "duration": 3,
    "start_time": "2024-11-14T05:28:50.059Z"
   },
   {
    "duration": 48,
    "start_time": "2024-11-14T05:28:50.064Z"
   },
   {
    "duration": 2,
    "start_time": "2024-11-14T05:28:50.115Z"
   },
   {
    "duration": 3,
    "start_time": "2024-11-14T05:28:50.119Z"
   },
   {
    "duration": 3,
    "start_time": "2024-11-14T05:28:50.124Z"
   },
   {
    "duration": 3,
    "start_time": "2024-11-14T05:28:50.131Z"
   },
   {
    "duration": 2,
    "start_time": "2024-11-14T05:28:50.136Z"
   },
   {
    "duration": 3,
    "start_time": "2024-11-14T05:28:50.140Z"
   },
   {
    "duration": 3,
    "start_time": "2024-11-14T05:28:50.144Z"
   },
   {
    "duration": 3,
    "start_time": "2024-11-14T05:28:50.149Z"
   },
   {
    "duration": 3,
    "start_time": "2024-11-14T05:28:50.153Z"
   },
   {
    "duration": 2,
    "start_time": "2024-11-14T05:28:50.158Z"
   },
   {
    "duration": 577,
    "start_time": "2024-11-14T05:29:43.092Z"
   },
   {
    "duration": 1077,
    "start_time": "2024-11-14T05:29:43.672Z"
   },
   {
    "duration": 19,
    "start_time": "2024-11-14T05:29:44.751Z"
   },
   {
    "duration": 14,
    "start_time": "2024-11-14T05:29:44.774Z"
   },
   {
    "duration": 24,
    "start_time": "2024-11-14T05:29:44.790Z"
   },
   {
    "duration": 13,
    "start_time": "2024-11-14T05:29:44.820Z"
   },
   {
    "duration": 29,
    "start_time": "2024-11-14T05:29:44.838Z"
   },
   {
    "duration": 115,
    "start_time": "2024-11-14T05:29:44.869Z"
   },
   {
    "duration": 120,
    "start_time": "2024-11-14T05:29:44.987Z"
   },
   {
    "duration": 127,
    "start_time": "2024-11-14T05:29:45.110Z"
   },
   {
    "duration": 111,
    "start_time": "2024-11-14T05:29:45.241Z"
   },
   {
    "duration": 46,
    "start_time": "2024-11-14T05:29:45.358Z"
   },
   {
    "duration": 24,
    "start_time": "2024-11-14T05:29:45.413Z"
   },
   {
    "duration": 6,
    "start_time": "2024-11-14T05:29:45.440Z"
   },
   {
    "duration": 25,
    "start_time": "2024-11-14T05:29:45.450Z"
   },
   {
    "duration": 51,
    "start_time": "2024-11-14T05:29:45.477Z"
   },
   {
    "duration": 2,
    "start_time": "2024-11-14T05:29:45.531Z"
   },
   {
    "duration": 2,
    "start_time": "2024-11-14T05:29:45.536Z"
   },
   {
    "duration": 2,
    "start_time": "2024-11-14T05:29:45.541Z"
   },
   {
    "duration": 2,
    "start_time": "2024-11-14T05:29:45.546Z"
   },
   {
    "duration": 3,
    "start_time": "2024-11-14T05:29:45.550Z"
   },
   {
    "duration": 3,
    "start_time": "2024-11-14T05:29:45.555Z"
   },
   {
    "duration": 3,
    "start_time": "2024-11-14T05:29:45.560Z"
   },
   {
    "duration": 3,
    "start_time": "2024-11-14T05:29:45.565Z"
   },
   {
    "duration": 3,
    "start_time": "2024-11-14T05:29:45.570Z"
   },
   {
    "duration": 2,
    "start_time": "2024-11-14T05:29:45.613Z"
   },
   {
    "duration": 5,
    "start_time": "2024-11-14T05:29:45.618Z"
   },
   {
    "duration": 6,
    "start_time": "2024-11-14T05:29:45.630Z"
   },
   {
    "duration": 6,
    "start_time": "2024-11-14T05:29:45.638Z"
   },
   {
    "duration": 3,
    "start_time": "2024-11-14T05:29:45.646Z"
   },
   {
    "duration": 3,
    "start_time": "2024-11-14T05:29:45.651Z"
   },
   {
    "duration": 3,
    "start_time": "2024-11-14T05:29:45.656Z"
   },
   {
    "duration": 3,
    "start_time": "2024-11-14T05:29:45.661Z"
   },
   {
    "duration": 3,
    "start_time": "2024-11-14T05:29:45.666Z"
   },
   {
    "duration": 602,
    "start_time": "2024-11-14T05:31:43.811Z"
   },
   {
    "duration": 1123,
    "start_time": "2024-11-14T05:31:44.416Z"
   },
   {
    "duration": 15,
    "start_time": "2024-11-14T05:31:45.542Z"
   },
   {
    "duration": 11,
    "start_time": "2024-11-14T05:31:45.560Z"
   },
   {
    "duration": 9,
    "start_time": "2024-11-14T05:31:45.575Z"
   },
   {
    "duration": 29,
    "start_time": "2024-11-14T05:31:45.587Z"
   },
   {
    "duration": 28,
    "start_time": "2024-11-14T05:31:45.621Z"
   },
   {
    "duration": 104,
    "start_time": "2024-11-14T05:31:45.654Z"
   },
   {
    "duration": 104,
    "start_time": "2024-11-14T05:31:45.760Z"
   },
   {
    "duration": 114,
    "start_time": "2024-11-14T05:31:45.866Z"
   },
   {
    "duration": 125,
    "start_time": "2024-11-14T05:31:45.982Z"
   },
   {
    "duration": 50,
    "start_time": "2024-11-14T05:31:46.113Z"
   },
   {
    "duration": 23,
    "start_time": "2024-11-14T05:31:46.165Z"
   },
   {
    "duration": 19,
    "start_time": "2024-11-14T05:31:46.194Z"
   },
   {
    "duration": 34,
    "start_time": "2024-11-14T05:31:46.215Z"
   },
   {
    "duration": 41,
    "start_time": "2024-11-14T05:31:46.251Z"
   },
   {
    "duration": 18,
    "start_time": "2024-11-14T05:31:46.294Z"
   },
   {
    "duration": 2,
    "start_time": "2024-11-14T05:31:46.315Z"
   },
   {
    "duration": 3,
    "start_time": "2024-11-14T05:31:46.319Z"
   },
   {
    "duration": 2,
    "start_time": "2024-11-14T05:31:46.324Z"
   },
   {
    "duration": 3,
    "start_time": "2024-11-14T05:31:46.329Z"
   },
   {
    "duration": 2,
    "start_time": "2024-11-14T05:31:46.334Z"
   },
   {
    "duration": 3,
    "start_time": "2024-11-14T05:31:46.338Z"
   },
   {
    "duration": 2,
    "start_time": "2024-11-14T05:31:46.343Z"
   },
   {
    "duration": 3,
    "start_time": "2024-11-14T05:31:46.347Z"
   },
   {
    "duration": 2,
    "start_time": "2024-11-14T05:31:46.352Z"
   },
   {
    "duration": 3,
    "start_time": "2024-11-14T05:31:46.356Z"
   },
   {
    "duration": 2,
    "start_time": "2024-11-14T05:31:46.361Z"
   },
   {
    "duration": 2,
    "start_time": "2024-11-14T05:31:46.366Z"
   },
   {
    "duration": 3,
    "start_time": "2024-11-14T05:31:46.413Z"
   },
   {
    "duration": 2,
    "start_time": "2024-11-14T05:31:46.418Z"
   },
   {
    "duration": 2,
    "start_time": "2024-11-14T05:31:46.422Z"
   },
   {
    "duration": 2,
    "start_time": "2024-11-14T05:31:46.426Z"
   },
   {
    "duration": 3,
    "start_time": "2024-11-14T05:31:46.430Z"
   },
   {
    "duration": 577,
    "start_time": "2024-11-14T05:33:36.580Z"
   },
   {
    "duration": 1450,
    "start_time": "2024-11-14T05:33:37.161Z"
   },
   {
    "duration": 16,
    "start_time": "2024-11-14T05:33:38.616Z"
   },
   {
    "duration": 12,
    "start_time": "2024-11-14T05:33:38.634Z"
   },
   {
    "duration": 10,
    "start_time": "2024-11-14T05:33:38.649Z"
   },
   {
    "duration": 10,
    "start_time": "2024-11-14T05:33:38.661Z"
   },
   {
    "duration": 63,
    "start_time": "2024-11-14T05:33:38.673Z"
   },
   {
    "duration": 153,
    "start_time": "2024-11-14T05:33:38.738Z"
   },
   {
    "duration": 149,
    "start_time": "2024-11-14T05:33:38.894Z"
   },
   {
    "duration": 145,
    "start_time": "2024-11-14T05:33:39.046Z"
   },
   {
    "duration": 149,
    "start_time": "2024-11-14T05:33:39.194Z"
   },
   {
    "duration": 42,
    "start_time": "2024-11-14T05:33:39.345Z"
   },
   {
    "duration": 38,
    "start_time": "2024-11-14T05:33:39.389Z"
   },
   {
    "duration": 5,
    "start_time": "2024-11-14T05:33:39.431Z"
   },
   {
    "duration": 35,
    "start_time": "2024-11-14T05:33:39.438Z"
   },
   {
    "duration": 58,
    "start_time": "2024-11-14T05:33:39.475Z"
   },
   {
    "duration": 2,
    "start_time": "2024-11-14T05:33:39.536Z"
   },
   {
    "duration": 3,
    "start_time": "2024-11-14T05:33:39.540Z"
   },
   {
    "duration": 3,
    "start_time": "2024-11-14T05:33:39.544Z"
   },
   {
    "duration": 2,
    "start_time": "2024-11-14T05:33:39.549Z"
   },
   {
    "duration": 2,
    "start_time": "2024-11-14T05:33:39.553Z"
   },
   {
    "duration": 2,
    "start_time": "2024-11-14T05:33:39.557Z"
   },
   {
    "duration": 3,
    "start_time": "2024-11-14T05:33:39.561Z"
   },
   {
    "duration": 2,
    "start_time": "2024-11-14T05:33:39.566Z"
   },
   {
    "duration": 3,
    "start_time": "2024-11-14T05:33:39.570Z"
   },
   {
    "duration": 8,
    "start_time": "2024-11-14T05:33:39.579Z"
   },
   {
    "duration": 3,
    "start_time": "2024-11-14T05:33:39.612Z"
   },
   {
    "duration": 9,
    "start_time": "2024-11-14T05:33:39.619Z"
   },
   {
    "duration": 3,
    "start_time": "2024-11-14T05:33:39.630Z"
   },
   {
    "duration": 3,
    "start_time": "2024-11-14T05:33:39.634Z"
   },
   {
    "duration": 2,
    "start_time": "2024-11-14T05:33:39.639Z"
   },
   {
    "duration": 2,
    "start_time": "2024-11-14T05:33:39.643Z"
   },
   {
    "duration": 2,
    "start_time": "2024-11-14T05:33:39.647Z"
   },
   {
    "duration": 2,
    "start_time": "2024-11-14T05:33:39.651Z"
   },
   {
    "duration": 465,
    "start_time": "2024-11-14T05:42:37.789Z"
   },
   {
    "duration": 955,
    "start_time": "2024-11-14T05:42:38.256Z"
   },
   {
    "duration": 12,
    "start_time": "2024-11-14T05:42:39.213Z"
   },
   {
    "duration": 11,
    "start_time": "2024-11-14T05:42:39.227Z"
   },
   {
    "duration": 8,
    "start_time": "2024-11-14T05:42:39.240Z"
   },
   {
    "duration": 8,
    "start_time": "2024-11-14T05:42:39.250Z"
   },
   {
    "duration": 54,
    "start_time": "2024-11-14T05:42:39.261Z"
   },
   {
    "duration": 108,
    "start_time": "2024-11-14T05:42:39.317Z"
   },
   {
    "duration": 101,
    "start_time": "2024-11-14T05:42:39.426Z"
   },
   {
    "duration": 106,
    "start_time": "2024-11-14T05:42:39.531Z"
   },
   {
    "duration": 93,
    "start_time": "2024-11-14T05:42:39.639Z"
   },
   {
    "duration": 29,
    "start_time": "2024-11-14T05:42:39.734Z"
   },
   {
    "duration": 19,
    "start_time": "2024-11-14T05:42:39.765Z"
   },
   {
    "duration": 4,
    "start_time": "2024-11-14T05:42:39.787Z"
   },
   {
    "duration": 23,
    "start_time": "2024-11-14T05:42:39.812Z"
   },
   {
    "duration": 28,
    "start_time": "2024-11-14T05:42:39.837Z"
   },
   {
    "duration": 3,
    "start_time": "2024-11-14T05:42:39.866Z"
   },
   {
    "duration": 3,
    "start_time": "2024-11-14T05:42:39.870Z"
   },
   {
    "duration": 4,
    "start_time": "2024-11-14T05:42:39.875Z"
   },
   {
    "duration": 32,
    "start_time": "2024-11-14T05:42:39.880Z"
   },
   {
    "duration": 3,
    "start_time": "2024-11-14T05:42:39.914Z"
   },
   {
    "duration": 3,
    "start_time": "2024-11-14T05:42:39.919Z"
   },
   {
    "duration": 2,
    "start_time": "2024-11-14T05:42:39.925Z"
   },
   {
    "duration": 3,
    "start_time": "2024-11-14T05:42:39.929Z"
   },
   {
    "duration": 3,
    "start_time": "2024-11-14T05:42:39.933Z"
   },
   {
    "duration": 3,
    "start_time": "2024-11-14T05:42:39.938Z"
   },
   {
    "duration": 8,
    "start_time": "2024-11-14T05:42:39.942Z"
   },
   {
    "duration": 5,
    "start_time": "2024-11-14T05:42:39.954Z"
   },
   {
    "duration": 3,
    "start_time": "2024-11-14T05:42:39.961Z"
   },
   {
    "duration": 3,
    "start_time": "2024-11-14T05:42:39.965Z"
   },
   {
    "duration": 3,
    "start_time": "2024-11-14T05:42:39.970Z"
   },
   {
    "duration": 37,
    "start_time": "2024-11-14T05:42:39.975Z"
   },
   {
    "duration": 2,
    "start_time": "2024-11-14T05:42:40.014Z"
   },
   {
    "duration": 2,
    "start_time": "2024-11-14T05:42:40.018Z"
   },
   {
    "duration": 454,
    "start_time": "2024-11-14T05:44:53.314Z"
   },
   {
    "duration": 952,
    "start_time": "2024-11-14T05:44:53.771Z"
   },
   {
    "duration": 14,
    "start_time": "2024-11-14T05:44:54.727Z"
   },
   {
    "duration": 10,
    "start_time": "2024-11-14T05:44:54.745Z"
   },
   {
    "duration": 8,
    "start_time": "2024-11-14T05:44:54.757Z"
   },
   {
    "duration": 10,
    "start_time": "2024-11-14T05:44:54.767Z"
   },
   {
    "duration": 57,
    "start_time": "2024-11-14T05:44:54.779Z"
   },
   {
    "duration": 103,
    "start_time": "2024-11-14T05:44:54.838Z"
   },
   {
    "duration": 116,
    "start_time": "2024-11-14T05:44:54.943Z"
   },
   {
    "duration": 113,
    "start_time": "2024-11-14T05:44:55.062Z"
   },
   {
    "duration": 101,
    "start_time": "2024-11-14T05:44:55.177Z"
   },
   {
    "duration": 43,
    "start_time": "2024-11-14T05:44:55.281Z"
   },
   {
    "duration": 16,
    "start_time": "2024-11-14T05:44:55.328Z"
   },
   {
    "duration": 7,
    "start_time": "2024-11-14T05:44:55.346Z"
   },
   {
    "duration": 25,
    "start_time": "2024-11-14T05:44:55.354Z"
   },
   {
    "duration": 37,
    "start_time": "2024-11-14T05:44:55.382Z"
   },
   {
    "duration": 3,
    "start_time": "2024-11-14T05:44:55.421Z"
   },
   {
    "duration": 2,
    "start_time": "2024-11-14T05:44:55.426Z"
   },
   {
    "duration": 3,
    "start_time": "2024-11-14T05:44:55.430Z"
   },
   {
    "duration": 2,
    "start_time": "2024-11-14T05:44:55.435Z"
   },
   {
    "duration": 2,
    "start_time": "2024-11-14T05:44:55.439Z"
   },
   {
    "duration": 3,
    "start_time": "2024-11-14T05:44:55.443Z"
   },
   {
    "duration": 3,
    "start_time": "2024-11-14T05:44:55.448Z"
   },
   {
    "duration": 3,
    "start_time": "2024-11-14T05:44:55.452Z"
   },
   {
    "duration": 4,
    "start_time": "2024-11-14T05:44:55.457Z"
   },
   {
    "duration": 2,
    "start_time": "2024-11-14T05:44:55.464Z"
   },
   {
    "duration": 3,
    "start_time": "2024-11-14T05:44:55.467Z"
   },
   {
    "duration": 42,
    "start_time": "2024-11-14T05:44:55.473Z"
   },
   {
    "duration": 6,
    "start_time": "2024-11-14T05:44:55.517Z"
   },
   {
    "duration": 3,
    "start_time": "2024-11-14T05:44:55.525Z"
   },
   {
    "duration": 3,
    "start_time": "2024-11-14T05:44:55.530Z"
   },
   {
    "duration": 3,
    "start_time": "2024-11-14T05:44:55.534Z"
   },
   {
    "duration": 3,
    "start_time": "2024-11-14T05:44:55.539Z"
   },
   {
    "duration": 3,
    "start_time": "2024-11-14T05:44:55.544Z"
   },
   {
    "duration": 433,
    "start_time": "2024-11-14T05:46:36.799Z"
   },
   {
    "duration": 966,
    "start_time": "2024-11-14T05:46:37.236Z"
   },
   {
    "duration": 15,
    "start_time": "2024-11-14T05:46:38.204Z"
   },
   {
    "duration": 11,
    "start_time": "2024-11-14T05:46:38.222Z"
   },
   {
    "duration": 11,
    "start_time": "2024-11-14T05:46:38.235Z"
   },
   {
    "duration": 10,
    "start_time": "2024-11-14T05:46:38.248Z"
   },
   {
    "duration": 60,
    "start_time": "2024-11-14T05:46:38.261Z"
   },
   {
    "duration": 117,
    "start_time": "2024-11-14T05:46:38.323Z"
   },
   {
    "duration": 111,
    "start_time": "2024-11-14T05:46:38.443Z"
   },
   {
    "duration": 115,
    "start_time": "2024-11-14T05:46:38.559Z"
   },
   {
    "duration": 117,
    "start_time": "2024-11-14T05:46:38.676Z"
   },
   {
    "duration": 54,
    "start_time": "2024-11-14T05:46:38.795Z"
   },
   {
    "duration": 15,
    "start_time": "2024-11-14T05:46:38.850Z"
   },
   {
    "duration": 4,
    "start_time": "2024-11-14T05:46:38.867Z"
   },
   {
    "duration": 45,
    "start_time": "2024-11-14T05:46:38.873Z"
   },
   {
    "duration": 19,
    "start_time": "2024-11-14T05:46:38.920Z"
   },
   {
    "duration": 3,
    "start_time": "2024-11-14T05:46:38.941Z"
   },
   {
    "duration": 2,
    "start_time": "2024-11-14T05:46:38.946Z"
   },
   {
    "duration": 3,
    "start_time": "2024-11-14T05:46:38.950Z"
   },
   {
    "duration": 2,
    "start_time": "2024-11-14T05:46:38.956Z"
   },
   {
    "duration": 3,
    "start_time": "2024-11-14T05:46:38.960Z"
   },
   {
    "duration": 3,
    "start_time": "2024-11-14T05:46:38.966Z"
   },
   {
    "duration": 3,
    "start_time": "2024-11-14T05:46:38.972Z"
   },
   {
    "duration": 36,
    "start_time": "2024-11-14T05:46:38.976Z"
   },
   {
    "duration": 3,
    "start_time": "2024-11-14T05:46:39.015Z"
   },
   {
    "duration": 2,
    "start_time": "2024-11-14T05:46:39.020Z"
   },
   {
    "duration": 3,
    "start_time": "2024-11-14T05:46:39.024Z"
   },
   {
    "duration": 2,
    "start_time": "2024-11-14T05:46:39.032Z"
   },
   {
    "duration": 2,
    "start_time": "2024-11-14T05:46:39.037Z"
   },
   {
    "duration": 3,
    "start_time": "2024-11-14T05:46:39.041Z"
   },
   {
    "duration": 3,
    "start_time": "2024-11-14T05:46:39.046Z"
   },
   {
    "duration": 2,
    "start_time": "2024-11-14T05:46:39.051Z"
   },
   {
    "duration": 3,
    "start_time": "2024-11-14T05:46:39.055Z"
   },
   {
    "duration": 3,
    "start_time": "2024-11-14T05:46:39.059Z"
   },
   {
    "duration": 467,
    "start_time": "2024-11-14T05:54:25.042Z"
   },
   {
    "duration": 932,
    "start_time": "2024-11-14T05:54:25.510Z"
   },
   {
    "duration": 16,
    "start_time": "2024-11-14T05:54:26.444Z"
   },
   {
    "duration": 11,
    "start_time": "2024-11-14T05:54:26.463Z"
   },
   {
    "duration": 8,
    "start_time": "2024-11-14T05:54:26.476Z"
   },
   {
    "duration": 34,
    "start_time": "2024-11-14T05:54:26.486Z"
   },
   {
    "duration": 26,
    "start_time": "2024-11-14T05:54:26.521Z"
   },
   {
    "duration": 108,
    "start_time": "2024-11-14T05:54:26.549Z"
   },
   {
    "duration": 102,
    "start_time": "2024-11-14T05:54:26.660Z"
   },
   {
    "duration": 116,
    "start_time": "2024-11-14T05:54:26.766Z"
   },
   {
    "duration": 96,
    "start_time": "2024-11-14T05:54:26.885Z"
   },
   {
    "duration": 38,
    "start_time": "2024-11-14T05:54:26.982Z"
   },
   {
    "duration": 12,
    "start_time": "2024-11-14T05:54:27.022Z"
   },
   {
    "duration": 3,
    "start_time": "2024-11-14T05:54:27.036Z"
   },
   {
    "duration": 20,
    "start_time": "2024-11-14T05:54:27.041Z"
   },
   {
    "duration": 11,
    "start_time": "2024-11-14T05:54:27.063Z"
   },
   {
    "duration": 3,
    "start_time": "2024-11-14T05:54:27.076Z"
   },
   {
    "duration": 31,
    "start_time": "2024-11-14T05:54:27.081Z"
   },
   {
    "duration": 3,
    "start_time": "2024-11-14T05:54:27.115Z"
   },
   {
    "duration": 3,
    "start_time": "2024-11-14T05:54:27.119Z"
   },
   {
    "duration": 3,
    "start_time": "2024-11-14T05:54:27.123Z"
   },
   {
    "duration": 2,
    "start_time": "2024-11-14T05:54:27.128Z"
   },
   {
    "duration": 3,
    "start_time": "2024-11-14T05:54:27.132Z"
   },
   {
    "duration": 2,
    "start_time": "2024-11-14T05:54:27.137Z"
   },
   {
    "duration": 3,
    "start_time": "2024-11-14T05:54:27.140Z"
   },
   {
    "duration": 3,
    "start_time": "2024-11-14T05:54:27.145Z"
   },
   {
    "duration": 3,
    "start_time": "2024-11-14T05:54:27.150Z"
   },
   {
    "duration": 3,
    "start_time": "2024-11-14T05:54:27.157Z"
   },
   {
    "duration": 51,
    "start_time": "2024-11-14T05:54:27.162Z"
   },
   {
    "duration": 3,
    "start_time": "2024-11-14T05:54:27.216Z"
   },
   {
    "duration": 4,
    "start_time": "2024-11-14T05:54:27.221Z"
   },
   {
    "duration": 4,
    "start_time": "2024-11-14T05:54:27.227Z"
   },
   {
    "duration": 3,
    "start_time": "2024-11-14T05:54:27.232Z"
   },
   {
    "duration": 2,
    "start_time": "2024-11-14T05:54:27.237Z"
   },
   {
    "duration": 425,
    "start_time": "2024-11-14T06:01:20.898Z"
   },
   {
    "duration": 946,
    "start_time": "2024-11-14T06:01:21.326Z"
   },
   {
    "duration": 12,
    "start_time": "2024-11-14T06:01:22.274Z"
   },
   {
    "duration": 24,
    "start_time": "2024-11-14T06:01:22.289Z"
   },
   {
    "duration": 9,
    "start_time": "2024-11-14T06:01:22.315Z"
   },
   {
    "duration": 8,
    "start_time": "2024-11-14T06:01:22.325Z"
   },
   {
    "duration": 24,
    "start_time": "2024-11-14T06:01:22.335Z"
   },
   {
    "duration": 123,
    "start_time": "2024-11-14T06:01:22.361Z"
   },
   {
    "duration": 131,
    "start_time": "2024-11-14T06:01:22.486Z"
   },
   {
    "duration": 108,
    "start_time": "2024-11-14T06:01:22.621Z"
   },
   {
    "duration": 101,
    "start_time": "2024-11-14T06:01:22.732Z"
   },
   {
    "duration": 42,
    "start_time": "2024-11-14T06:01:22.835Z"
   },
   {
    "duration": 15,
    "start_time": "2024-11-14T06:01:22.878Z"
   },
   {
    "duration": 18,
    "start_time": "2024-11-14T06:01:22.895Z"
   },
   {
    "duration": 492,
    "start_time": "2024-11-14T06:01:22.915Z"
   },
   {
    "duration": 0,
    "start_time": "2024-11-14T06:01:23.412Z"
   },
   {
    "duration": 0,
    "start_time": "2024-11-14T06:01:23.413Z"
   },
   {
    "duration": 0,
    "start_time": "2024-11-14T06:01:23.414Z"
   },
   {
    "duration": 0,
    "start_time": "2024-11-14T06:01:23.415Z"
   },
   {
    "duration": 0,
    "start_time": "2024-11-14T06:01:23.416Z"
   },
   {
    "duration": 0,
    "start_time": "2024-11-14T06:01:23.417Z"
   },
   {
    "duration": 0,
    "start_time": "2024-11-14T06:01:23.418Z"
   },
   {
    "duration": 0,
    "start_time": "2024-11-14T06:01:23.419Z"
   },
   {
    "duration": 0,
    "start_time": "2024-11-14T06:01:23.421Z"
   },
   {
    "duration": 0,
    "start_time": "2024-11-14T06:01:23.422Z"
   },
   {
    "duration": 0,
    "start_time": "2024-11-14T06:01:23.423Z"
   },
   {
    "duration": 0,
    "start_time": "2024-11-14T06:01:23.424Z"
   },
   {
    "duration": 0,
    "start_time": "2024-11-14T06:01:23.425Z"
   },
   {
    "duration": 0,
    "start_time": "2024-11-14T06:01:23.428Z"
   },
   {
    "duration": 0,
    "start_time": "2024-11-14T06:01:23.430Z"
   },
   {
    "duration": 0,
    "start_time": "2024-11-14T06:01:23.431Z"
   },
   {
    "duration": 0,
    "start_time": "2024-11-14T06:01:23.432Z"
   },
   {
    "duration": 0,
    "start_time": "2024-11-14T06:01:23.433Z"
   },
   {
    "duration": 0,
    "start_time": "2024-11-14T06:01:23.435Z"
   },
   {
    "duration": 459,
    "start_time": "2024-11-14T06:22:36.021Z"
   },
   {
    "duration": 926,
    "start_time": "2024-11-14T06:22:36.481Z"
   },
   {
    "duration": 12,
    "start_time": "2024-11-14T06:22:37.408Z"
   },
   {
    "duration": 10,
    "start_time": "2024-11-14T06:22:37.423Z"
   },
   {
    "duration": 7,
    "start_time": "2024-11-14T06:22:37.435Z"
   },
   {
    "duration": 6,
    "start_time": "2024-11-14T06:22:37.444Z"
   },
   {
    "duration": 22,
    "start_time": "2024-11-14T06:22:37.452Z"
   },
   {
    "duration": 119,
    "start_time": "2024-11-14T06:22:37.477Z"
   },
   {
    "duration": 106,
    "start_time": "2024-11-14T06:22:37.598Z"
   },
   {
    "duration": 94,
    "start_time": "2024-11-14T06:22:37.711Z"
   },
   {
    "duration": 94,
    "start_time": "2024-11-14T06:22:37.806Z"
   },
   {
    "duration": 41,
    "start_time": "2024-11-14T06:22:37.901Z"
   },
   {
    "duration": 12,
    "start_time": "2024-11-14T06:22:37.944Z"
   },
   {
    "duration": 3,
    "start_time": "2024-11-14T06:22:37.958Z"
   },
   {
    "duration": 452,
    "start_time": "2024-11-14T06:22:37.963Z"
   },
   {
    "duration": 0,
    "start_time": "2024-11-14T06:22:38.418Z"
   },
   {
    "duration": 0,
    "start_time": "2024-11-14T06:22:38.419Z"
   },
   {
    "duration": 0,
    "start_time": "2024-11-14T06:22:38.420Z"
   },
   {
    "duration": 0,
    "start_time": "2024-11-14T06:22:38.421Z"
   },
   {
    "duration": 0,
    "start_time": "2024-11-14T06:22:38.422Z"
   },
   {
    "duration": 0,
    "start_time": "2024-11-14T06:22:38.423Z"
   },
   {
    "duration": 0,
    "start_time": "2024-11-14T06:22:38.425Z"
   },
   {
    "duration": 0,
    "start_time": "2024-11-14T06:22:38.426Z"
   },
   {
    "duration": 0,
    "start_time": "2024-11-14T06:22:38.428Z"
   },
   {
    "duration": 0,
    "start_time": "2024-11-14T06:22:38.429Z"
   },
   {
    "duration": 0,
    "start_time": "2024-11-14T06:22:38.430Z"
   },
   {
    "duration": 0,
    "start_time": "2024-11-14T06:22:38.431Z"
   },
   {
    "duration": 0,
    "start_time": "2024-11-14T06:22:38.432Z"
   },
   {
    "duration": 0,
    "start_time": "2024-11-14T06:22:38.433Z"
   },
   {
    "duration": 0,
    "start_time": "2024-11-14T06:22:38.434Z"
   },
   {
    "duration": 0,
    "start_time": "2024-11-14T06:22:38.436Z"
   },
   {
    "duration": 0,
    "start_time": "2024-11-14T06:22:38.437Z"
   },
   {
    "duration": 0,
    "start_time": "2024-11-14T06:22:38.438Z"
   },
   {
    "duration": 0,
    "start_time": "2024-11-14T06:22:38.440Z"
   },
   {
    "duration": 20,
    "start_time": "2024-11-14T06:23:53.433Z"
   },
   {
    "duration": 462,
    "start_time": "2024-11-14T06:24:21.644Z"
   },
   {
    "duration": 942,
    "start_time": "2024-11-14T06:24:22.111Z"
   },
   {
    "duration": 12,
    "start_time": "2024-11-14T06:24:23.055Z"
   },
   {
    "duration": 9,
    "start_time": "2024-11-14T06:24:23.068Z"
   },
   {
    "duration": 7,
    "start_time": "2024-11-14T06:24:23.080Z"
   },
   {
    "duration": 8,
    "start_time": "2024-11-14T06:24:23.112Z"
   },
   {
    "duration": 25,
    "start_time": "2024-11-14T06:24:23.122Z"
   },
   {
    "duration": 116,
    "start_time": "2024-11-14T06:24:23.149Z"
   },
   {
    "duration": 100,
    "start_time": "2024-11-14T06:24:23.267Z"
   },
   {
    "duration": 111,
    "start_time": "2024-11-14T06:24:23.369Z"
   },
   {
    "duration": 98,
    "start_time": "2024-11-14T06:24:23.482Z"
   },
   {
    "duration": 38,
    "start_time": "2024-11-14T06:24:23.583Z"
   },
   {
    "duration": 13,
    "start_time": "2024-11-14T06:24:23.623Z"
   },
   {
    "duration": 3,
    "start_time": "2024-11-14T06:24:23.639Z"
   },
   {
    "duration": 445,
    "start_time": "2024-11-14T06:24:23.644Z"
   },
   {
    "duration": 0,
    "start_time": "2024-11-14T06:24:24.091Z"
   },
   {
    "duration": 0,
    "start_time": "2024-11-14T06:24:24.092Z"
   },
   {
    "duration": 0,
    "start_time": "2024-11-14T06:24:24.092Z"
   },
   {
    "duration": 0,
    "start_time": "2024-11-14T06:24:24.094Z"
   },
   {
    "duration": 0,
    "start_time": "2024-11-14T06:24:24.095Z"
   },
   {
    "duration": 0,
    "start_time": "2024-11-14T06:24:24.096Z"
   },
   {
    "duration": 0,
    "start_time": "2024-11-14T06:24:24.097Z"
   },
   {
    "duration": 0,
    "start_time": "2024-11-14T06:24:24.098Z"
   },
   {
    "duration": 0,
    "start_time": "2024-11-14T06:24:24.112Z"
   },
   {
    "duration": 0,
    "start_time": "2024-11-14T06:24:24.113Z"
   },
   {
    "duration": 0,
    "start_time": "2024-11-14T06:24:24.114Z"
   },
   {
    "duration": 0,
    "start_time": "2024-11-14T06:24:24.115Z"
   },
   {
    "duration": 0,
    "start_time": "2024-11-14T06:24:24.116Z"
   },
   {
    "duration": 1,
    "start_time": "2024-11-14T06:24:24.117Z"
   },
   {
    "duration": 1,
    "start_time": "2024-11-14T06:24:24.118Z"
   },
   {
    "duration": 0,
    "start_time": "2024-11-14T06:24:24.120Z"
   },
   {
    "duration": 0,
    "start_time": "2024-11-14T06:24:24.121Z"
   },
   {
    "duration": 0,
    "start_time": "2024-11-14T06:24:24.123Z"
   },
   {
    "duration": 0,
    "start_time": "2024-11-14T06:24:24.124Z"
   },
   {
    "duration": 21,
    "start_time": "2024-11-14T06:24:59.561Z"
   },
   {
    "duration": 17,
    "start_time": "2024-11-14T06:25:13.930Z"
   },
   {
    "duration": 4,
    "start_time": "2024-11-14T06:25:51.649Z"
   },
   {
    "duration": 33,
    "start_time": "2024-11-14T06:26:46.485Z"
   },
   {
    "duration": 25,
    "start_time": "2024-11-14T06:27:29.103Z"
   },
   {
    "duration": 57,
    "start_time": "2024-11-14T06:28:00.851Z"
   },
   {
    "duration": 58,
    "start_time": "2024-11-14T06:28:59.471Z"
   },
   {
    "duration": 19,
    "start_time": "2024-11-14T06:30:34.708Z"
   },
   {
    "duration": 15,
    "start_time": "2024-11-14T06:32:25.330Z"
   },
   {
    "duration": 2152,
    "start_time": "2024-11-15T04:25:07.048Z"
   },
   {
    "duration": 996,
    "start_time": "2024-11-15T04:25:09.205Z"
   },
   {
    "duration": 11,
    "start_time": "2024-11-15T04:25:10.203Z"
   },
   {
    "duration": 9,
    "start_time": "2024-11-15T04:25:10.215Z"
   },
   {
    "duration": 7,
    "start_time": "2024-11-15T04:25:10.227Z"
   },
   {
    "duration": 8,
    "start_time": "2024-11-15T04:25:10.236Z"
   },
   {
    "duration": 23,
    "start_time": "2024-11-15T04:25:10.246Z"
   },
   {
    "duration": 91,
    "start_time": "2024-11-15T04:25:10.304Z"
   },
   {
    "duration": 108,
    "start_time": "2024-11-15T04:25:10.397Z"
   },
   {
    "duration": 101,
    "start_time": "2024-11-15T04:25:10.507Z"
   },
   {
    "duration": 114,
    "start_time": "2024-11-15T04:25:10.610Z"
   },
   {
    "duration": 30,
    "start_time": "2024-11-15T04:25:10.726Z"
   },
   {
    "duration": 13,
    "start_time": "2024-11-15T04:25:10.759Z"
   },
   {
    "duration": 4,
    "start_time": "2024-11-15T04:25:10.775Z"
   },
   {
    "duration": 49,
    "start_time": "2024-11-15T04:25:10.780Z"
   },
   {
    "duration": 11,
    "start_time": "2024-11-15T04:25:10.831Z"
   },
   {
    "duration": 2,
    "start_time": "2024-11-15T04:25:10.844Z"
   },
   {
    "duration": 2,
    "start_time": "2024-11-15T04:25:10.848Z"
   },
   {
    "duration": 2,
    "start_time": "2024-11-15T04:25:10.852Z"
   },
   {
    "duration": 2,
    "start_time": "2024-11-15T04:25:10.856Z"
   },
   {
    "duration": 3,
    "start_time": "2024-11-15T04:25:10.860Z"
   },
   {
    "duration": 2,
    "start_time": "2024-11-15T04:25:10.866Z"
   },
   {
    "duration": 3,
    "start_time": "2024-11-15T04:25:10.906Z"
   },
   {
    "duration": 3,
    "start_time": "2024-11-15T04:25:10.910Z"
   },
   {
    "duration": 2,
    "start_time": "2024-11-15T04:25:10.914Z"
   },
   {
    "duration": 2,
    "start_time": "2024-11-15T04:25:10.918Z"
   },
   {
    "duration": 2,
    "start_time": "2024-11-15T04:25:10.923Z"
   },
   {
    "duration": 2,
    "start_time": "2024-11-15T04:25:10.927Z"
   },
   {
    "duration": 2,
    "start_time": "2024-11-15T04:25:10.931Z"
   },
   {
    "duration": 2,
    "start_time": "2024-11-15T04:25:10.935Z"
   },
   {
    "duration": 2,
    "start_time": "2024-11-15T04:25:10.939Z"
   },
   {
    "duration": 3,
    "start_time": "2024-11-15T04:25:10.942Z"
   },
   {
    "duration": 2,
    "start_time": "2024-11-15T04:25:10.947Z"
   },
   {
    "duration": 54,
    "start_time": "2024-11-15T04:25:10.951Z"
   },
   {
    "duration": 12,
    "start_time": "2024-11-15T04:31:27.092Z"
   },
   {
    "duration": 4,
    "start_time": "2024-11-15T04:47:36.558Z"
   },
   {
    "duration": 4,
    "start_time": "2024-11-15T04:50:14.143Z"
   },
   {
    "duration": 5,
    "start_time": "2024-11-15T04:53:18.995Z"
   },
   {
    "duration": 615,
    "start_time": "2024-11-15T05:16:23.260Z"
   },
   {
    "duration": 442,
    "start_time": "2024-11-15T05:16:48.627Z"
   },
   {
    "duration": 929,
    "start_time": "2024-11-15T05:16:49.072Z"
   },
   {
    "duration": 11,
    "start_time": "2024-11-15T05:16:50.002Z"
   },
   {
    "duration": 9,
    "start_time": "2024-11-15T05:16:50.014Z"
   },
   {
    "duration": 7,
    "start_time": "2024-11-15T05:16:50.026Z"
   },
   {
    "duration": 7,
    "start_time": "2024-11-15T05:16:50.035Z"
   },
   {
    "duration": 23,
    "start_time": "2024-11-15T05:16:50.044Z"
   },
   {
    "duration": 119,
    "start_time": "2024-11-15T05:16:50.069Z"
   },
   {
    "duration": 101,
    "start_time": "2024-11-15T05:16:50.190Z"
   },
   {
    "duration": 103,
    "start_time": "2024-11-15T05:16:50.293Z"
   },
   {
    "duration": 90,
    "start_time": "2024-11-15T05:16:50.398Z"
   },
   {
    "duration": 32,
    "start_time": "2024-11-15T05:16:50.490Z"
   },
   {
    "duration": 12,
    "start_time": "2024-11-15T05:16:50.524Z"
   },
   {
    "duration": 4,
    "start_time": "2024-11-15T05:16:50.539Z"
   },
   {
    "duration": 22,
    "start_time": "2024-11-15T05:16:50.545Z"
   },
   {
    "duration": 38,
    "start_time": "2024-11-15T05:16:50.568Z"
   },
   {
    "duration": 4,
    "start_time": "2024-11-15T05:16:50.608Z"
   },
   {
    "duration": 4,
    "start_time": "2024-11-15T05:16:50.614Z"
   },
   {
    "duration": 5,
    "start_time": "2024-11-15T05:16:50.620Z"
   },
   {
    "duration": 598,
    "start_time": "2024-11-15T05:16:50.626Z"
   },
   {
    "duration": 0,
    "start_time": "2024-11-15T05:16:51.226Z"
   },
   {
    "duration": 0,
    "start_time": "2024-11-15T05:16:51.227Z"
   },
   {
    "duration": 0,
    "start_time": "2024-11-15T05:16:51.229Z"
   },
   {
    "duration": 0,
    "start_time": "2024-11-15T05:16:51.230Z"
   },
   {
    "duration": 0,
    "start_time": "2024-11-15T05:16:51.232Z"
   },
   {
    "duration": 0,
    "start_time": "2024-11-15T05:16:51.233Z"
   },
   {
    "duration": 0,
    "start_time": "2024-11-15T05:16:51.234Z"
   },
   {
    "duration": 0,
    "start_time": "2024-11-15T05:16:51.235Z"
   },
   {
    "duration": 0,
    "start_time": "2024-11-15T05:16:51.236Z"
   },
   {
    "duration": 0,
    "start_time": "2024-11-15T05:16:51.237Z"
   },
   {
    "duration": 0,
    "start_time": "2024-11-15T05:16:51.238Z"
   },
   {
    "duration": 0,
    "start_time": "2024-11-15T05:16:51.239Z"
   },
   {
    "duration": 0,
    "start_time": "2024-11-15T05:16:51.241Z"
   },
   {
    "duration": 0,
    "start_time": "2024-11-15T05:16:51.242Z"
   },
   {
    "duration": 4,
    "start_time": "2024-11-15T05:18:16.380Z"
   },
   {
    "duration": 159,
    "start_time": "2024-11-16T17:56:06.334Z"
   },
   {
    "duration": 2235,
    "start_time": "2024-11-16T17:57:06.330Z"
   },
   {
    "duration": 993,
    "start_time": "2024-11-16T17:57:08.567Z"
   },
   {
    "duration": 11,
    "start_time": "2024-11-16T17:57:09.561Z"
   },
   {
    "duration": 9,
    "start_time": "2024-11-16T17:57:09.575Z"
   },
   {
    "duration": 27,
    "start_time": "2024-11-16T17:57:09.585Z"
   },
   {
    "duration": 8,
    "start_time": "2024-11-16T17:57:09.614Z"
   },
   {
    "duration": 22,
    "start_time": "2024-11-16T17:57:09.625Z"
   },
   {
    "duration": 103,
    "start_time": "2024-11-16T17:57:09.649Z"
   },
   {
    "duration": 102,
    "start_time": "2024-11-16T17:57:09.754Z"
   },
   {
    "duration": 102,
    "start_time": "2024-11-16T17:57:09.859Z"
   },
   {
    "duration": 89,
    "start_time": "2024-11-16T17:57:09.963Z"
   },
   {
    "duration": 30,
    "start_time": "2024-11-16T17:57:10.054Z"
   },
   {
    "duration": 25,
    "start_time": "2024-11-16T17:57:10.086Z"
   },
   {
    "duration": 4,
    "start_time": "2024-11-16T17:57:10.113Z"
   },
   {
    "duration": 22,
    "start_time": "2024-11-16T17:57:10.119Z"
   },
   {
    "duration": 11,
    "start_time": "2024-11-16T17:57:10.142Z"
   },
   {
    "duration": 4,
    "start_time": "2024-11-16T17:57:10.154Z"
   },
   {
    "duration": 4,
    "start_time": "2024-11-16T17:57:10.160Z"
   },
   {
    "duration": 4,
    "start_time": "2024-11-16T17:57:10.166Z"
   },
   {
    "duration": 41,
    "start_time": "2024-11-16T17:57:10.171Z"
   },
   {
    "duration": 789,
    "start_time": "2024-11-16T17:57:10.214Z"
   },
   {
    "duration": 7,
    "start_time": "2024-11-16T17:57:11.005Z"
   },
   {
    "duration": 2,
    "start_time": "2024-11-16T17:57:11.015Z"
   },
   {
    "duration": 3,
    "start_time": "2024-11-16T17:57:11.018Z"
   },
   {
    "duration": 2,
    "start_time": "2024-11-16T17:57:11.023Z"
   },
   {
    "duration": 2,
    "start_time": "2024-11-16T17:57:11.027Z"
   },
   {
    "duration": 3,
    "start_time": "2024-11-16T17:57:11.031Z"
   },
   {
    "duration": 2,
    "start_time": "2024-11-16T17:57:11.038Z"
   },
   {
    "duration": 2,
    "start_time": "2024-11-16T17:57:11.042Z"
   },
   {
    "duration": 3,
    "start_time": "2024-11-16T17:57:11.046Z"
   },
   {
    "duration": 3,
    "start_time": "2024-11-16T17:57:11.050Z"
   },
   {
    "duration": 3,
    "start_time": "2024-11-16T17:57:11.055Z"
   },
   {
    "duration": 3,
    "start_time": "2024-11-16T17:57:11.059Z"
   },
   {
    "duration": 50,
    "start_time": "2024-11-16T17:57:11.063Z"
   },
   {
    "duration": 225,
    "start_time": "2024-11-16T18:16:05.401Z"
   },
   {
    "duration": 416,
    "start_time": "2024-11-16T18:16:22.667Z"
   },
   {
    "duration": 920,
    "start_time": "2024-11-16T18:16:23.086Z"
   },
   {
    "duration": 14,
    "start_time": "2024-11-16T18:16:24.008Z"
   },
   {
    "duration": 10,
    "start_time": "2024-11-16T18:16:24.023Z"
   },
   {
    "duration": 8,
    "start_time": "2024-11-16T18:16:24.036Z"
   },
   {
    "duration": 8,
    "start_time": "2024-11-16T18:16:24.045Z"
   },
   {
    "duration": 24,
    "start_time": "2024-11-16T18:16:24.054Z"
   },
   {
    "duration": 117,
    "start_time": "2024-11-16T18:16:24.079Z"
   },
   {
    "duration": 101,
    "start_time": "2024-11-16T18:16:24.198Z"
   },
   {
    "duration": 98,
    "start_time": "2024-11-16T18:16:24.301Z"
   },
   {
    "duration": 89,
    "start_time": "2024-11-16T18:16:24.400Z"
   },
   {
    "duration": 40,
    "start_time": "2024-11-16T18:16:24.491Z"
   },
   {
    "duration": 13,
    "start_time": "2024-11-16T18:16:24.532Z"
   },
   {
    "duration": 4,
    "start_time": "2024-11-16T18:16:24.548Z"
   },
   {
    "duration": 22,
    "start_time": "2024-11-16T18:16:24.553Z"
   },
   {
    "duration": 36,
    "start_time": "2024-11-16T18:16:24.576Z"
   },
   {
    "duration": 4,
    "start_time": "2024-11-16T18:16:24.614Z"
   },
   {
    "duration": 4,
    "start_time": "2024-11-16T18:16:24.620Z"
   },
   {
    "duration": 5,
    "start_time": "2024-11-16T18:16:24.625Z"
   },
   {
    "duration": 4,
    "start_time": "2024-11-16T18:16:24.631Z"
   },
   {
    "duration": 847,
    "start_time": "2024-11-16T18:16:24.637Z"
   },
   {
    "duration": 188,
    "start_time": "2024-11-16T18:16:25.486Z"
   },
   {
    "duration": 0,
    "start_time": "2024-11-16T18:16:25.676Z"
   },
   {
    "duration": 0,
    "start_time": "2024-11-16T18:16:25.678Z"
   },
   {
    "duration": 0,
    "start_time": "2024-11-16T18:16:25.679Z"
   },
   {
    "duration": 0,
    "start_time": "2024-11-16T18:16:25.681Z"
   },
   {
    "duration": 0,
    "start_time": "2024-11-16T18:16:25.682Z"
   },
   {
    "duration": 0,
    "start_time": "2024-11-16T18:16:25.684Z"
   },
   {
    "duration": 0,
    "start_time": "2024-11-16T18:16:25.685Z"
   },
   {
    "duration": 0,
    "start_time": "2024-11-16T18:16:25.687Z"
   },
   {
    "duration": 0,
    "start_time": "2024-11-16T18:16:25.688Z"
   },
   {
    "duration": 0,
    "start_time": "2024-11-16T18:16:25.711Z"
   },
   {
    "duration": 0,
    "start_time": "2024-11-16T18:16:25.713Z"
   },
   {
    "duration": 0,
    "start_time": "2024-11-16T18:16:25.714Z"
   },
   {
    "duration": 672,
    "start_time": "2024-11-16T18:22:49.107Z"
   },
   {
    "duration": 6,
    "start_time": "2024-11-16T18:55:39.846Z"
   },
   {
    "duration": 432,
    "start_time": "2024-11-16T18:56:40.749Z"
   },
   {
    "duration": 908,
    "start_time": "2024-11-16T18:56:41.183Z"
   },
   {
    "duration": 19,
    "start_time": "2024-11-16T18:56:42.093Z"
   },
   {
    "duration": 10,
    "start_time": "2024-11-16T18:56:42.113Z"
   },
   {
    "duration": 7,
    "start_time": "2024-11-16T18:56:42.125Z"
   },
   {
    "duration": 8,
    "start_time": "2024-11-16T18:56:42.134Z"
   },
   {
    "duration": 24,
    "start_time": "2024-11-16T18:56:42.143Z"
   },
   {
    "duration": 115,
    "start_time": "2024-11-16T18:56:42.168Z"
   },
   {
    "duration": 100,
    "start_time": "2024-11-16T18:56:42.284Z"
   },
   {
    "duration": 102,
    "start_time": "2024-11-16T18:56:42.386Z"
   },
   {
    "duration": 88,
    "start_time": "2024-11-16T18:56:42.490Z"
   },
   {
    "duration": 40,
    "start_time": "2024-11-16T18:56:42.580Z"
   },
   {
    "duration": 13,
    "start_time": "2024-11-16T18:56:42.622Z"
   },
   {
    "duration": 3,
    "start_time": "2024-11-16T18:56:42.639Z"
   },
   {
    "duration": 21,
    "start_time": "2024-11-16T18:56:42.644Z"
   },
   {
    "duration": 11,
    "start_time": "2024-11-16T18:56:42.666Z"
   },
   {
    "duration": 3,
    "start_time": "2024-11-16T18:56:42.680Z"
   },
   {
    "duration": 5,
    "start_time": "2024-11-16T18:56:42.712Z"
   },
   {
    "duration": 4,
    "start_time": "2024-11-16T18:56:42.719Z"
   },
   {
    "duration": 4,
    "start_time": "2024-11-16T18:56:42.725Z"
   },
   {
    "duration": 814,
    "start_time": "2024-11-16T18:56:42.730Z"
   },
   {
    "duration": 683,
    "start_time": "2024-11-16T18:56:43.545Z"
   },
   {
    "duration": 5,
    "start_time": "2024-11-16T18:56:44.229Z"
   },
   {
    "duration": 4,
    "start_time": "2024-11-16T18:56:44.236Z"
   },
   {
    "duration": 3,
    "start_time": "2024-11-16T18:56:44.241Z"
   },
   {
    "duration": 3,
    "start_time": "2024-11-16T18:56:44.246Z"
   },
   {
    "duration": 3,
    "start_time": "2024-11-16T18:56:44.250Z"
   },
   {
    "duration": 3,
    "start_time": "2024-11-16T18:56:44.254Z"
   },
   {
    "duration": 3,
    "start_time": "2024-11-16T18:56:44.259Z"
   },
   {
    "duration": 3,
    "start_time": "2024-11-16T18:56:44.263Z"
   },
   {
    "duration": 3,
    "start_time": "2024-11-16T18:56:44.267Z"
   },
   {
    "duration": 3,
    "start_time": "2024-11-16T18:56:44.271Z"
   },
   {
    "duration": 2,
    "start_time": "2024-11-16T18:56:44.312Z"
   },
   {
    "duration": 2,
    "start_time": "2024-11-16T18:56:44.316Z"
   },
   {
    "duration": 7,
    "start_time": "2024-11-16T18:57:48.896Z"
   },
   {
    "duration": 10,
    "start_time": "2024-11-16T19:07:47.448Z"
   },
   {
    "duration": 4,
    "start_time": "2024-11-16T19:14:56.421Z"
   },
   {
    "duration": 3,
    "start_time": "2024-11-16T19:19:03.810Z"
   },
   {
    "duration": 4,
    "start_time": "2024-11-16T19:19:37.027Z"
   },
   {
    "duration": 4,
    "start_time": "2024-11-16T19:58:14.901Z"
   },
   {
    "duration": 5,
    "start_time": "2024-11-16T20:01:37.267Z"
   },
   {
    "duration": 6,
    "start_time": "2024-11-16T20:06:52.469Z"
   },
   {
    "duration": 6,
    "start_time": "2024-11-16T20:30:31.306Z"
   },
   {
    "duration": 6,
    "start_time": "2024-11-16T20:42:58.929Z"
   },
   {
    "duration": 13,
    "start_time": "2024-11-16T21:04:06.248Z"
   },
   {
    "duration": 184,
    "start_time": "2024-11-16T21:18:18.890Z"
   },
   {
    "duration": 18,
    "start_time": "2024-11-16T21:18:27.491Z"
   },
   {
    "duration": 13,
    "start_time": "2024-11-16T21:21:55.558Z"
   },
   {
    "duration": 32,
    "start_time": "2024-11-16T21:22:05.347Z"
   },
   {
    "duration": 419,
    "start_time": "2024-11-16T21:27:53.752Z"
   },
   {
    "duration": 6,
    "start_time": "2024-11-16T21:54:11.549Z"
   },
   {
    "duration": 410,
    "start_time": "2024-11-16T21:54:20.393Z"
   },
   {
    "duration": 920,
    "start_time": "2024-11-16T21:54:20.805Z"
   },
   {
    "duration": 11,
    "start_time": "2024-11-16T21:54:21.726Z"
   },
   {
    "duration": 10,
    "start_time": "2024-11-16T21:54:21.739Z"
   },
   {
    "duration": 7,
    "start_time": "2024-11-16T21:54:21.750Z"
   },
   {
    "duration": 7,
    "start_time": "2024-11-16T21:54:21.759Z"
   },
   {
    "duration": 51,
    "start_time": "2024-11-16T21:54:21.768Z"
   },
   {
    "duration": 97,
    "start_time": "2024-11-16T21:54:21.821Z"
   },
   {
    "duration": 103,
    "start_time": "2024-11-16T21:54:21.919Z"
   },
   {
    "duration": 103,
    "start_time": "2024-11-16T21:54:22.025Z"
   },
   {
    "duration": 98,
    "start_time": "2024-11-16T21:54:22.130Z"
   },
   {
    "duration": 31,
    "start_time": "2024-11-16T21:54:22.230Z"
   },
   {
    "duration": 13,
    "start_time": "2024-11-16T21:54:22.263Z"
   },
   {
    "duration": 3,
    "start_time": "2024-11-16T21:54:22.278Z"
   },
   {
    "duration": 49,
    "start_time": "2024-11-16T21:54:22.282Z"
   },
   {
    "duration": 12,
    "start_time": "2024-11-16T21:54:22.333Z"
   },
   {
    "duration": 4,
    "start_time": "2024-11-16T21:54:22.348Z"
   },
   {
    "duration": 4,
    "start_time": "2024-11-16T21:54:22.353Z"
   },
   {
    "duration": 5,
    "start_time": "2024-11-16T21:54:22.358Z"
   },
   {
    "duration": 4,
    "start_time": "2024-11-16T21:54:22.364Z"
   },
   {
    "duration": 850,
    "start_time": "2024-11-16T21:54:22.370Z"
   },
   {
    "duration": 704,
    "start_time": "2024-11-16T21:54:23.222Z"
   },
   {
    "duration": 10,
    "start_time": "2024-11-16T21:54:23.928Z"
   },
   {
    "duration": 4,
    "start_time": "2024-11-16T21:54:23.939Z"
   },
   {
    "duration": 4,
    "start_time": "2024-11-16T21:54:23.944Z"
   },
   {
    "duration": 6,
    "start_time": "2024-11-16T21:54:23.950Z"
   },
   {
    "duration": 6,
    "start_time": "2024-11-16T21:54:23.959Z"
   },
   {
    "duration": 5,
    "start_time": "2024-11-16T21:54:23.968Z"
   },
   {
    "duration": 46,
    "start_time": "2024-11-16T21:54:23.975Z"
   },
   {
    "duration": 16,
    "start_time": "2024-11-16T21:54:24.023Z"
   },
   {
    "duration": 32,
    "start_time": "2024-11-16T21:54:24.040Z"
   },
   {
    "duration": 6,
    "start_time": "2024-11-16T21:54:24.074Z"
   },
   {
    "duration": 2,
    "start_time": "2024-11-16T21:54:24.081Z"
   },
   {
    "duration": 3,
    "start_time": "2024-11-16T21:54:24.111Z"
   },
   {
    "duration": 7,
    "start_time": "2024-11-16T22:09:39.873Z"
   },
   {
    "duration": 5,
    "start_time": "2024-11-16T22:49:23.768Z"
   },
   {
    "duration": 28,
    "start_time": "2024-11-16T22:53:45.708Z"
   },
   {
    "duration": 39,
    "start_time": "2024-11-16T22:54:42.592Z"
   },
   {
    "duration": 432,
    "start_time": "2024-11-16T22:54:54.111Z"
   },
   {
    "duration": 940,
    "start_time": "2024-11-16T22:54:54.545Z"
   },
   {
    "duration": 12,
    "start_time": "2024-11-16T22:54:55.487Z"
   },
   {
    "duration": 18,
    "start_time": "2024-11-16T22:54:55.501Z"
   },
   {
    "duration": 8,
    "start_time": "2024-11-16T22:54:55.521Z"
   },
   {
    "duration": 8,
    "start_time": "2024-11-16T22:54:55.530Z"
   },
   {
    "duration": 23,
    "start_time": "2024-11-16T22:54:55.539Z"
   },
   {
    "duration": 115,
    "start_time": "2024-11-16T22:54:55.564Z"
   },
   {
    "duration": 95,
    "start_time": "2024-11-16T22:54:55.681Z"
   },
   {
    "duration": 103,
    "start_time": "2024-11-16T22:54:55.778Z"
   },
   {
    "duration": 93,
    "start_time": "2024-11-16T22:54:55.883Z"
   },
   {
    "duration": 44,
    "start_time": "2024-11-16T22:54:55.978Z"
   },
   {
    "duration": 13,
    "start_time": "2024-11-16T22:54:56.023Z"
   },
   {
    "duration": 4,
    "start_time": "2024-11-16T22:54:56.039Z"
   },
   {
    "duration": 23,
    "start_time": "2024-11-16T22:54:56.045Z"
   },
   {
    "duration": 11,
    "start_time": "2024-11-16T22:54:56.070Z"
   },
   {
    "duration": 30,
    "start_time": "2024-11-16T22:54:56.083Z"
   },
   {
    "duration": 4,
    "start_time": "2024-11-16T22:54:56.114Z"
   },
   {
    "duration": 4,
    "start_time": "2024-11-16T22:54:56.120Z"
   },
   {
    "duration": 4,
    "start_time": "2024-11-16T22:54:56.126Z"
   },
   {
    "duration": 805,
    "start_time": "2024-11-16T22:54:56.132Z"
   },
   {
    "duration": 730,
    "start_time": "2024-11-16T22:54:56.939Z"
   },
   {
    "duration": 10,
    "start_time": "2024-11-16T22:54:57.671Z"
   },
   {
    "duration": 4,
    "start_time": "2024-11-16T22:54:57.683Z"
   },
   {
    "duration": 3,
    "start_time": "2024-11-16T22:54:57.689Z"
   },
   {
    "duration": 24,
    "start_time": "2024-11-16T22:54:57.693Z"
   },
   {
    "duration": 5,
    "start_time": "2024-11-16T22:54:57.719Z"
   },
   {
    "duration": 6,
    "start_time": "2024-11-16T22:54:57.726Z"
   },
   {
    "duration": 13,
    "start_time": "2024-11-16T22:54:57.733Z"
   },
   {
    "duration": 15,
    "start_time": "2024-11-16T22:54:57.748Z"
   },
   {
    "duration": 68,
    "start_time": "2024-11-16T22:54:57.765Z"
   },
   {
    "duration": 8,
    "start_time": "2024-11-16T22:54:57.835Z"
   },
   {
    "duration": 4,
    "start_time": "2024-11-16T22:54:57.844Z"
   },
   {
    "duration": 61,
    "start_time": "2024-11-16T22:54:57.851Z"
   },
   {
    "duration": 5,
    "start_time": "2024-11-16T23:25:25.306Z"
   },
   {
    "duration": 185,
    "start_time": "2024-11-16T23:26:10.228Z"
   },
   {
    "duration": 5,
    "start_time": "2024-11-16T23:26:21.383Z"
   },
   {
    "duration": 409,
    "start_time": "2024-11-16T23:26:43.893Z"
   },
   {
    "duration": 934,
    "start_time": "2024-11-16T23:26:44.305Z"
   },
   {
    "duration": 13,
    "start_time": "2024-11-16T23:26:45.243Z"
   },
   {
    "duration": 13,
    "start_time": "2024-11-16T23:26:45.260Z"
   },
   {
    "duration": 8,
    "start_time": "2024-11-16T23:26:45.275Z"
   },
   {
    "duration": 7,
    "start_time": "2024-11-16T23:26:45.285Z"
   },
   {
    "duration": 25,
    "start_time": "2024-11-16T23:26:45.311Z"
   },
   {
    "duration": 103,
    "start_time": "2024-11-16T23:26:45.338Z"
   },
   {
    "duration": 97,
    "start_time": "2024-11-16T23:26:45.442Z"
   },
   {
    "duration": 94,
    "start_time": "2024-11-16T23:26:45.543Z"
   },
   {
    "duration": 91,
    "start_time": "2024-11-16T23:26:45.639Z"
   },
   {
    "duration": 28,
    "start_time": "2024-11-16T23:26:45.733Z"
   },
   {
    "duration": 14,
    "start_time": "2024-11-16T23:26:45.763Z"
   },
   {
    "duration": 4,
    "start_time": "2024-11-16T23:26:45.778Z"
   },
   {
    "duration": 44,
    "start_time": "2024-11-16T23:26:45.784Z"
   },
   {
    "duration": 12,
    "start_time": "2024-11-16T23:26:45.830Z"
   },
   {
    "duration": 5,
    "start_time": "2024-11-16T23:26:45.844Z"
   },
   {
    "duration": 3,
    "start_time": "2024-11-16T23:26:45.851Z"
   },
   {
    "duration": 5,
    "start_time": "2024-11-16T23:26:45.856Z"
   },
   {
    "duration": 4,
    "start_time": "2024-11-16T23:26:45.863Z"
   },
   {
    "duration": 846,
    "start_time": "2024-11-16T23:26:45.869Z"
   },
   {
    "duration": 740,
    "start_time": "2024-11-16T23:26:46.716Z"
   },
   {
    "duration": 10,
    "start_time": "2024-11-16T23:26:47.458Z"
   },
   {
    "duration": 3,
    "start_time": "2024-11-16T23:26:47.470Z"
   },
   {
    "duration": 3,
    "start_time": "2024-11-16T23:26:47.475Z"
   },
   {
    "duration": 34,
    "start_time": "2024-11-16T23:26:47.480Z"
   },
   {
    "duration": 5,
    "start_time": "2024-11-16T23:26:47.516Z"
   },
   {
    "duration": 5,
    "start_time": "2024-11-16T23:26:47.525Z"
   },
   {
    "duration": 13,
    "start_time": "2024-11-16T23:26:47.532Z"
   },
   {
    "duration": 16,
    "start_time": "2024-11-16T23:26:47.546Z"
   },
   {
    "duration": 60,
    "start_time": "2024-11-16T23:26:47.563Z"
   },
   {
    "duration": 7,
    "start_time": "2024-11-16T23:26:47.625Z"
   },
   {
    "duration": 4,
    "start_time": "2024-11-16T23:26:47.634Z"
   },
   {
    "duration": 42,
    "start_time": "2024-11-16T23:26:47.641Z"
   },
   {
    "duration": 28,
    "start_time": "2024-11-16T23:26:47.685Z"
   },
   {
    "duration": 5,
    "start_time": "2024-11-16T23:26:47.715Z"
   },
   {
    "duration": 6,
    "start_time": "2024-11-16T23:28:21.481Z"
   },
   {
    "duration": 202,
    "start_time": "2024-11-16T23:29:22.740Z"
   },
   {
    "duration": 182,
    "start_time": "2024-11-16T23:29:40.815Z"
   },
   {
    "duration": 186,
    "start_time": "2024-11-16T23:30:34.240Z"
   },
   {
    "duration": 280,
    "start_time": "2024-11-16T23:32:17.815Z"
   },
   {
    "duration": 262,
    "start_time": "2024-11-16T23:32:53.377Z"
   },
   {
    "duration": 185,
    "start_time": "2024-11-16T23:33:31.838Z"
   },
   {
    "duration": 199,
    "start_time": "2024-11-16T23:39:34.668Z"
   },
   {
    "duration": 409,
    "start_time": "2024-11-16T23:40:19.279Z"
   },
   {
    "duration": 912,
    "start_time": "2024-11-16T23:40:19.690Z"
   },
   {
    "duration": 15,
    "start_time": "2024-11-16T23:40:20.605Z"
   },
   {
    "duration": 10,
    "start_time": "2024-11-16T23:40:20.621Z"
   },
   {
    "duration": 8,
    "start_time": "2024-11-16T23:40:20.633Z"
   },
   {
    "duration": 7,
    "start_time": "2024-11-16T23:40:20.642Z"
   },
   {
    "duration": 23,
    "start_time": "2024-11-16T23:40:20.651Z"
   },
   {
    "duration": 120,
    "start_time": "2024-11-16T23:40:20.676Z"
   },
   {
    "duration": 102,
    "start_time": "2024-11-16T23:40:20.798Z"
   },
   {
    "duration": 96,
    "start_time": "2024-11-16T23:40:20.902Z"
   },
   {
    "duration": 94,
    "start_time": "2024-11-16T23:40:20.999Z"
   },
   {
    "duration": 39,
    "start_time": "2024-11-16T23:40:21.095Z"
   },
   {
    "duration": 12,
    "start_time": "2024-11-16T23:40:21.135Z"
   },
   {
    "duration": 4,
    "start_time": "2024-11-16T23:40:21.151Z"
   },
   {
    "duration": 23,
    "start_time": "2024-11-16T23:40:21.156Z"
   },
   {
    "duration": 36,
    "start_time": "2024-11-16T23:40:21.182Z"
   },
   {
    "duration": 4,
    "start_time": "2024-11-16T23:40:21.220Z"
   },
   {
    "duration": 4,
    "start_time": "2024-11-16T23:40:21.225Z"
   },
   {
    "duration": 4,
    "start_time": "2024-11-16T23:40:21.231Z"
   },
   {
    "duration": 5,
    "start_time": "2024-11-16T23:40:21.236Z"
   },
   {
    "duration": 807,
    "start_time": "2024-11-16T23:40:21.243Z"
   },
   {
    "duration": 674,
    "start_time": "2024-11-16T23:40:22.052Z"
   },
   {
    "duration": 10,
    "start_time": "2024-11-16T23:40:22.727Z"
   },
   {
    "duration": 3,
    "start_time": "2024-11-16T23:40:22.739Z"
   },
   {
    "duration": 4,
    "start_time": "2024-11-16T23:40:22.743Z"
   },
   {
    "duration": 7,
    "start_time": "2024-11-16T23:40:22.748Z"
   },
   {
    "duration": 5,
    "start_time": "2024-11-16T23:40:22.757Z"
   },
   {
    "duration": 6,
    "start_time": "2024-11-16T23:40:22.764Z"
   },
   {
    "duration": 46,
    "start_time": "2024-11-16T23:40:22.772Z"
   },
   {
    "duration": 16,
    "start_time": "2024-11-16T23:40:22.819Z"
   },
   {
    "duration": 31,
    "start_time": "2024-11-16T23:40:22.837Z"
   },
   {
    "duration": 8,
    "start_time": "2024-11-16T23:40:22.870Z"
   },
   {
    "duration": 4,
    "start_time": "2024-11-16T23:40:22.912Z"
   },
   {
    "duration": 43,
    "start_time": "2024-11-16T23:40:22.918Z"
   },
   {
    "duration": 4,
    "start_time": "2024-11-16T23:40:22.963Z"
   },
   {
    "duration": 5,
    "start_time": "2024-11-16T23:40:22.969Z"
   },
   {
    "duration": 227,
    "start_time": "2024-11-16T23:40:22.976Z"
   },
   {
    "duration": 121,
    "start_time": "2024-11-16T23:48:27.841Z"
   },
   {
    "duration": 126,
    "start_time": "2024-11-16T23:51:22.874Z"
   },
   {
    "duration": 133,
    "start_time": "2024-11-16T23:51:45.113Z"
   },
   {
    "duration": 437,
    "start_time": "2024-11-16T23:53:39.953Z"
   },
   {
    "duration": 906,
    "start_time": "2024-11-16T23:53:40.392Z"
   },
   {
    "duration": 19,
    "start_time": "2024-11-16T23:53:41.300Z"
   },
   {
    "duration": 9,
    "start_time": "2024-11-16T23:53:41.321Z"
   },
   {
    "duration": 7,
    "start_time": "2024-11-16T23:53:41.333Z"
   },
   {
    "duration": 6,
    "start_time": "2024-11-16T23:53:41.342Z"
   },
   {
    "duration": 26,
    "start_time": "2024-11-16T23:53:41.350Z"
   },
   {
    "duration": 121,
    "start_time": "2024-11-16T23:53:41.378Z"
   },
   {
    "duration": 95,
    "start_time": "2024-11-16T23:53:41.501Z"
   },
   {
    "duration": 101,
    "start_time": "2024-11-16T23:53:41.598Z"
   },
   {
    "duration": 95,
    "start_time": "2024-11-16T23:53:41.701Z"
   },
   {
    "duration": 33,
    "start_time": "2024-11-16T23:53:41.797Z"
   },
   {
    "duration": 12,
    "start_time": "2024-11-16T23:53:41.832Z"
   },
   {
    "duration": 4,
    "start_time": "2024-11-16T23:53:41.848Z"
   },
   {
    "duration": 25,
    "start_time": "2024-11-16T23:53:41.853Z"
   },
   {
    "duration": 40,
    "start_time": "2024-11-16T23:53:41.879Z"
   },
   {
    "duration": 4,
    "start_time": "2024-11-16T23:53:41.921Z"
   },
   {
    "duration": 5,
    "start_time": "2024-11-16T23:53:41.927Z"
   },
   {
    "duration": 4,
    "start_time": "2024-11-16T23:53:41.933Z"
   },
   {
    "duration": 3,
    "start_time": "2024-11-16T23:53:41.939Z"
   },
   {
    "duration": 807,
    "start_time": "2024-11-16T23:53:41.944Z"
   },
   {
    "duration": 718,
    "start_time": "2024-11-16T23:53:42.753Z"
   },
   {
    "duration": 10,
    "start_time": "2024-11-16T23:53:43.474Z"
   },
   {
    "duration": 3,
    "start_time": "2024-11-16T23:53:43.485Z"
   },
   {
    "duration": 24,
    "start_time": "2024-11-16T23:53:43.490Z"
   },
   {
    "duration": 6,
    "start_time": "2024-11-16T23:53:43.516Z"
   },
   {
    "duration": 5,
    "start_time": "2024-11-16T23:53:43.525Z"
   },
   {
    "duration": 6,
    "start_time": "2024-11-16T23:53:43.532Z"
   },
   {
    "duration": 12,
    "start_time": "2024-11-16T23:53:43.540Z"
   },
   {
    "duration": 18,
    "start_time": "2024-11-16T23:53:43.555Z"
   },
   {
    "duration": 60,
    "start_time": "2024-11-16T23:53:43.574Z"
   },
   {
    "duration": 7,
    "start_time": "2024-11-16T23:53:43.637Z"
   },
   {
    "duration": 4,
    "start_time": "2024-11-16T23:53:43.646Z"
   },
   {
    "duration": 68,
    "start_time": "2024-11-16T23:53:43.652Z"
   },
   {
    "duration": 4,
    "start_time": "2024-11-16T23:53:43.722Z"
   },
   {
    "duration": 5,
    "start_time": "2024-11-16T23:53:43.728Z"
   },
   {
    "duration": 216,
    "start_time": "2024-11-16T23:53:43.735Z"
   },
   {
    "duration": 137,
    "start_time": "2024-11-16T23:53:43.953Z"
   },
   {
    "duration": 124,
    "start_time": "2024-11-16T23:54:52.853Z"
   },
   {
    "duration": 139,
    "start_time": "2024-11-17T00:03:36.282Z"
   },
   {
    "duration": 146,
    "start_time": "2024-11-17T00:04:41.713Z"
   },
   {
    "duration": 172,
    "start_time": "2024-11-17T00:06:25.311Z"
   },
   {
    "duration": 164,
    "start_time": "2024-11-17T00:07:29.992Z"
   },
   {
    "duration": 159,
    "start_time": "2024-11-17T00:07:57.546Z"
   },
   {
    "duration": 192,
    "start_time": "2024-11-17T05:06:31.347Z"
   },
   {
    "duration": 2434,
    "start_time": "2024-11-17T05:06:42.577Z"
   },
   {
    "duration": 1176,
    "start_time": "2024-11-17T05:06:45.014Z"
   },
   {
    "duration": 17,
    "start_time": "2024-11-17T05:06:46.193Z"
   },
   {
    "duration": 17,
    "start_time": "2024-11-17T05:06:46.212Z"
   },
   {
    "duration": 13,
    "start_time": "2024-11-17T05:06:46.233Z"
   },
   {
    "duration": 10,
    "start_time": "2024-11-17T05:06:46.252Z"
   },
   {
    "duration": 23,
    "start_time": "2024-11-17T05:06:46.264Z"
   },
   {
    "duration": 110,
    "start_time": "2024-11-17T05:06:46.289Z"
   },
   {
    "duration": 112,
    "start_time": "2024-11-17T05:06:46.410Z"
   },
   {
    "duration": 107,
    "start_time": "2024-11-17T05:06:46.526Z"
   },
   {
    "duration": 94,
    "start_time": "2024-11-17T05:06:46.645Z"
   },
   {
    "duration": 28,
    "start_time": "2024-11-17T05:06:46.741Z"
   },
   {
    "duration": 11,
    "start_time": "2024-11-17T05:06:46.771Z"
   },
   {
    "duration": 4,
    "start_time": "2024-11-17T05:06:46.786Z"
   },
   {
    "duration": 39,
    "start_time": "2024-11-17T05:06:46.809Z"
   },
   {
    "duration": 10,
    "start_time": "2024-11-17T05:06:46.850Z"
   },
   {
    "duration": 3,
    "start_time": "2024-11-17T05:06:46.862Z"
   },
   {
    "duration": 4,
    "start_time": "2024-11-17T05:06:46.867Z"
   },
   {
    "duration": 5,
    "start_time": "2024-11-17T05:06:46.873Z"
   },
   {
    "duration": 32,
    "start_time": "2024-11-17T05:06:46.879Z"
   },
   {
    "duration": 949,
    "start_time": "2024-11-17T05:06:46.913Z"
   },
   {
    "duration": 774,
    "start_time": "2024-11-17T05:06:47.864Z"
   },
   {
    "duration": 10,
    "start_time": "2024-11-17T05:06:48.641Z"
   },
   {
    "duration": 3,
    "start_time": "2024-11-17T05:06:48.653Z"
   },
   {
    "duration": 3,
    "start_time": "2024-11-17T05:06:48.658Z"
   },
   {
    "duration": 5,
    "start_time": "2024-11-17T05:06:48.663Z"
   },
   {
    "duration": 5,
    "start_time": "2024-11-17T05:06:48.670Z"
   },
   {
    "duration": 39,
    "start_time": "2024-11-17T05:06:48.677Z"
   },
   {
    "duration": 22,
    "start_time": "2024-11-17T05:06:48.718Z"
   },
   {
    "duration": 16,
    "start_time": "2024-11-17T05:06:48.742Z"
   },
   {
    "duration": 31,
    "start_time": "2024-11-17T05:06:48.759Z"
   },
   {
    "duration": 24,
    "start_time": "2024-11-17T05:06:48.792Z"
   },
   {
    "duration": 5,
    "start_time": "2024-11-17T05:06:48.818Z"
   },
   {
    "duration": 48,
    "start_time": "2024-11-17T05:06:48.825Z"
   },
   {
    "duration": 4,
    "start_time": "2024-11-17T05:06:48.875Z"
   },
   {
    "duration": 30,
    "start_time": "2024-11-17T05:06:48.882Z"
   },
   {
    "duration": 243,
    "start_time": "2024-11-17T05:06:48.914Z"
   },
   {
    "duration": 151,
    "start_time": "2024-11-17T05:06:49.159Z"
   },
   {
    "duration": 218,
    "start_time": "2024-11-17T05:06:49.316Z"
   },
   {
    "duration": 490,
    "start_time": "2024-11-17T05:10:44.034Z"
   },
   {
    "duration": 1051,
    "start_time": "2024-11-17T05:10:44.527Z"
   },
   {
    "duration": 11,
    "start_time": "2024-11-17T05:10:45.580Z"
   },
   {
    "duration": 21,
    "start_time": "2024-11-17T05:10:45.592Z"
   },
   {
    "duration": 17,
    "start_time": "2024-11-17T05:10:45.616Z"
   },
   {
    "duration": 9,
    "start_time": "2024-11-17T05:10:45.636Z"
   },
   {
    "duration": 23,
    "start_time": "2024-11-17T05:10:45.647Z"
   },
   {
    "duration": 114,
    "start_time": "2024-11-17T05:10:45.672Z"
   },
   {
    "duration": 121,
    "start_time": "2024-11-17T05:10:45.787Z"
   },
   {
    "duration": 118,
    "start_time": "2024-11-17T05:10:45.919Z"
   },
   {
    "duration": 98,
    "start_time": "2024-11-17T05:10:46.041Z"
   },
   {
    "duration": 30,
    "start_time": "2024-11-17T05:10:46.141Z"
   },
   {
    "duration": 12,
    "start_time": "2024-11-17T05:10:46.173Z"
   },
   {
    "duration": 3,
    "start_time": "2024-11-17T05:10:46.189Z"
   },
   {
    "duration": 34,
    "start_time": "2024-11-17T05:10:46.217Z"
   },
   {
    "duration": 10,
    "start_time": "2024-11-17T05:10:46.252Z"
   },
   {
    "duration": 4,
    "start_time": "2024-11-17T05:10:46.264Z"
   },
   {
    "duration": 4,
    "start_time": "2024-11-17T05:10:46.269Z"
   },
   {
    "duration": 4,
    "start_time": "2024-11-17T05:10:46.275Z"
   },
   {
    "duration": 33,
    "start_time": "2024-11-17T05:10:46.281Z"
   },
   {
    "duration": 939,
    "start_time": "2024-11-17T05:10:46.316Z"
   },
   {
    "duration": 883,
    "start_time": "2024-11-17T05:10:47.258Z"
   },
   {
    "duration": 11,
    "start_time": "2024-11-17T05:10:48.143Z"
   },
   {
    "duration": 4,
    "start_time": "2024-11-17T05:10:48.155Z"
   },
   {
    "duration": 4,
    "start_time": "2024-11-17T05:10:48.161Z"
   },
   {
    "duration": 5,
    "start_time": "2024-11-17T05:10:48.167Z"
   },
   {
    "duration": 6,
    "start_time": "2024-11-17T05:10:48.174Z"
   },
   {
    "duration": 18,
    "start_time": "2024-11-17T05:10:48.217Z"
   },
   {
    "duration": 13,
    "start_time": "2024-11-17T05:10:48.237Z"
   },
   {
    "duration": 15,
    "start_time": "2024-11-17T05:10:48.252Z"
   },
   {
    "duration": 42,
    "start_time": "2024-11-17T05:10:48.269Z"
   },
   {
    "duration": 10,
    "start_time": "2024-11-17T05:10:48.315Z"
   },
   {
    "duration": 9,
    "start_time": "2024-11-17T05:10:48.326Z"
   },
   {
    "duration": 45,
    "start_time": "2024-11-17T05:10:48.339Z"
   },
   {
    "duration": 4,
    "start_time": "2024-11-17T05:10:48.385Z"
   },
   {
    "duration": 28,
    "start_time": "2024-11-17T05:10:48.391Z"
   },
   {
    "duration": 246,
    "start_time": "2024-11-17T05:10:48.421Z"
   },
   {
    "duration": 140,
    "start_time": "2024-11-17T05:10:48.669Z"
   },
   {
    "duration": 1671,
    "start_time": "2024-11-17T05:10:48.811Z"
   },
   {
    "duration": 10,
    "start_time": "2024-11-17T05:14:53.612Z"
   },
   {
    "duration": 260,
    "start_time": "2024-11-17T05:15:13.430Z"
   },
   {
    "duration": 224,
    "start_time": "2024-11-17T05:15:29.674Z"
   },
   {
    "duration": 150,
    "start_time": "2024-11-17T05:15:52.633Z"
   },
   {
    "duration": 234,
    "start_time": "2024-11-17T05:16:32.921Z"
   },
   {
    "duration": 495,
    "start_time": "2024-11-17T05:35:38.737Z"
   },
   {
    "duration": 1056,
    "start_time": "2024-11-17T05:35:39.238Z"
   },
   {
    "duration": 15,
    "start_time": "2024-11-17T05:35:40.296Z"
   },
   {
    "duration": 12,
    "start_time": "2024-11-17T05:35:40.313Z"
   },
   {
    "duration": 8,
    "start_time": "2024-11-17T05:35:40.328Z"
   },
   {
    "duration": 11,
    "start_time": "2024-11-17T05:35:40.338Z"
   },
   {
    "duration": 29,
    "start_time": "2024-11-17T05:35:40.351Z"
   },
   {
    "duration": 118,
    "start_time": "2024-11-17T05:35:40.382Z"
   },
   {
    "duration": 135,
    "start_time": "2024-11-17T05:35:40.501Z"
   },
   {
    "duration": 107,
    "start_time": "2024-11-17T05:35:40.639Z"
   },
   {
    "duration": 97,
    "start_time": "2024-11-17T05:35:40.747Z"
   },
   {
    "duration": 27,
    "start_time": "2024-11-17T05:35:40.846Z"
   },
   {
    "duration": 12,
    "start_time": "2024-11-17T05:35:40.874Z"
   },
   {
    "duration": 4,
    "start_time": "2024-11-17T05:35:40.890Z"
   },
   {
    "duration": 53,
    "start_time": "2024-11-17T05:35:40.895Z"
   },
   {
    "duration": 10,
    "start_time": "2024-11-17T05:35:40.950Z"
   },
   {
    "duration": 4,
    "start_time": "2024-11-17T05:35:40.962Z"
   },
   {
    "duration": 3,
    "start_time": "2024-11-17T05:35:40.969Z"
   },
   {
    "duration": 4,
    "start_time": "2024-11-17T05:35:40.974Z"
   },
   {
    "duration": 48,
    "start_time": "2024-11-17T05:35:40.980Z"
   },
   {
    "duration": 908,
    "start_time": "2024-11-17T05:35:41.030Z"
   },
   {
    "duration": 766,
    "start_time": "2024-11-17T05:35:41.941Z"
   },
   {
    "duration": 16,
    "start_time": "2024-11-17T05:35:42.711Z"
   },
   {
    "duration": 5,
    "start_time": "2024-11-17T05:35:42.737Z"
   },
   {
    "duration": 4,
    "start_time": "2024-11-17T05:35:42.744Z"
   },
   {
    "duration": 6,
    "start_time": "2024-11-17T05:35:42.750Z"
   },
   {
    "duration": 6,
    "start_time": "2024-11-17T05:35:42.757Z"
   },
   {
    "duration": 6,
    "start_time": "2024-11-17T05:35:42.764Z"
   },
   {
    "duration": 12,
    "start_time": "2024-11-17T05:35:42.772Z"
   },
   {
    "duration": 49,
    "start_time": "2024-11-17T05:35:42.786Z"
   },
   {
    "duration": 33,
    "start_time": "2024-11-17T05:35:42.838Z"
   },
   {
    "duration": 8,
    "start_time": "2024-11-17T05:35:42.875Z"
   },
   {
    "duration": 8,
    "start_time": "2024-11-17T05:35:42.887Z"
   },
   {
    "duration": 48,
    "start_time": "2024-11-17T05:35:42.913Z"
   },
   {
    "duration": 5,
    "start_time": "2024-11-17T05:35:42.964Z"
   },
   {
    "duration": 3,
    "start_time": "2024-11-17T05:35:42.971Z"
   },
   {
    "duration": 266,
    "start_time": "2024-11-17T05:35:42.976Z"
   },
   {
    "duration": 143,
    "start_time": "2024-11-17T05:35:43.243Z"
   },
   {
    "duration": 257,
    "start_time": "2024-11-17T05:35:43.387Z"
   },
   {
    "duration": 9,
    "start_time": "2024-11-17T05:35:43.646Z"
   },
   {
    "duration": 5,
    "start_time": "2024-11-17T05:35:43.659Z"
   },
   {
    "duration": 5,
    "start_time": "2024-11-17T05:35:43.668Z"
   },
   {
    "duration": 0,
    "start_time": "2024-11-17T05:35:43.675Z"
   },
   {
    "duration": 4,
    "start_time": "2024-11-17T05:36:31.289Z"
   },
   {
    "duration": 9,
    "start_time": "2024-11-17T05:38:42.721Z"
   },
   {
    "duration": 5,
    "start_time": "2024-11-17T05:39:21.686Z"
   },
   {
    "duration": 233,
    "start_time": "2024-11-17T05:40:49.817Z"
   },
   {
    "duration": 344,
    "start_time": "2024-11-17T05:41:04.103Z"
   },
   {
    "duration": 315,
    "start_time": "2024-11-17T05:41:31.266Z"
   },
   {
    "duration": 392,
    "start_time": "2024-11-17T05:41:46.145Z"
   },
   {
    "duration": 316,
    "start_time": "2024-11-17T05:42:01.552Z"
   },
   {
    "duration": 5,
    "start_time": "2024-11-17T05:42:27.539Z"
   },
   {
    "duration": 316,
    "start_time": "2024-11-17T05:43:19.385Z"
   }
  ],
  "colab": {
   "provenance": []
  },
  "kernelspec": {
   "display_name": "Python 3 (ipykernel)",
   "language": "python",
   "name": "python3"
  },
  "language_info": {
   "codemirror_mode": {
    "name": "ipython",
    "version": 3
   },
   "file_extension": ".py",
   "mimetype": "text/x-python",
   "name": "python",
   "nbconvert_exporter": "python",
   "pygments_lexer": "ipython3",
   "version": "3.9.19"
  },
  "toc": {
   "base_numbering": 1,
   "nav_menu": {},
   "number_sections": true,
   "sideBar": true,
   "skip_h1_title": true,
   "title_cell": "Table of Contents",
   "title_sidebar": "Contents",
   "toc_cell": false,
   "toc_position": {},
   "toc_section_display": true,
   "toc_window_display": false
  },
  "vscode": {
   "interpreter": {
    "hash": "01a7be9ec63e704a62cefc5fe7a4756944464ee731be31632bdf42a4cb4688cf"
   }
  }
 },
 "nbformat": 4,
 "nbformat_minor": 5
}
